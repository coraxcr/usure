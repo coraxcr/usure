{
 "cells": [
  {
   "cell_type": "code",
   "execution_count": 1,
   "metadata": {},
   "outputs": [],
   "source": [
    "import sys\n",
    "import os\n",
    "os.chdir(os.path.abspath(\"../../../\"))\n",
    "import ipywidgets as widgets\n",
    "from ipywidgets import interact, interactive, fixed, interact_manual, HBox\n",
    "from IPython.display import display"
   ]
  },
  {
   "cell_type": "code",
   "execution_count": 2,
   "metadata": {},
   "outputs": [],
   "source": [
    "from usure.preprocessing.cleaning import CleaningTask\n",
    "from usure.preprocessing.core import Corpus, CorpusRep\n",
    "from usure.preprocessing.infrastructure import FileCorpusRep, StopwordsRep, EmoticonRep\n",
    "import usure.common.logging as usurelogging\n",
    "from usure.config import config\n",
    "from usure.preprocessing.app import App"
   ]
  },
  {
   "cell_type": "code",
   "execution_count": 3,
   "metadata": {},
   "outputs": [],
   "source": [
    "config.set_to_test_mode()\n",
    "\n",
    "usurelogging.config(config.logs, \"preprocessing.log\")\n",
    "\n",
    "raw_corpus_rep = FileCorpusRep(config.unpreprocessed)\n",
    "\n",
    "pre_corpus_rep = FileCorpusRep(config.preprocessed)\n",
    "\n",
    "stopwordsrep = StopwordsRep(config.assets)\n",
    "\n",
    "emoticonrep = EmoticonRep(config.assets)\n",
    "\n",
    "basic_cleaning_task = CleaningTask.create_basic(emoticonrep, stopwordsrep)\n",
    "\n",
    "twiter_claning_task = CleaningTask.create_twitter(emoticonrep, stopwordsrep)\n",
    "\n",
    "def get_cleaningtask(name:str):\n",
    "\n",
    "    if name == \"tweets.txt\":\n",
    "\n",
    "        return twiter_claning_task\n",
    "\n",
    "    else:\n",
    "\n",
    "        return basic_cleaning_task\n",
    "\n",
    "etl = App(raw_corpus_rep, pre_corpus_rep, get_cleaningtask)\n"
   ]
  },
  {
   "cell_type": "code",
   "execution_count": 4,
   "metadata": {},
   "outputs": [
    {
     "name": "stderr",
     "output_type": "stream",
     "text": [
      "INFO root 09:46:20.000 A Func:_transform\n",
      "INFO root 09:46:20.029 ⧖ Corpus: test_1.txt\n",
      "INFO root 09:46:20.101 ⧖ Max chunk size: 400000\n",
      "INFO root 09:46:20.150 ⧖ Chunk no: 1\n",
      "INFO root 09:46:20.213 Ω Func:_transform Total: 00:00:00\n",
      "INFO root 09:46:20.216 A Func:_transform\n",
      "INFO root 09:46:20.217 ⧖ Corpus: test_0.txt\n",
      "INFO root 09:46:20.280 ⧖ Max chunk size: 400000\n",
      "INFO root 09:46:20.393 ⧖ Chunk no: 1\n",
      "INFO root 09:46:20.512 Ω Func:_transform Total: 00:00:00\n"
     ]
    }
   ],
   "source": [
    "etl.do()"
   ]
  },
  {
   "cell_type": "code",
   "execution_count": null,
   "metadata": {},
   "outputs": [],
   "source": []
  }
 ],
 "metadata": {
  "kernelspec": {
   "display_name": "Python 3",
   "language": "python",
   "name": "python3"
  },
  "language_info": {
   "codemirror_mode": {
    "name": "ipython",
    "version": 3
   },
   "file_extension": ".py",
   "mimetype": "text/x-python",
   "name": "python",
   "nbconvert_exporter": "python",
   "pygments_lexer": "ipython3",
   "version": "3.7.3"
  },
  "widgets": {
   "application/vnd.jupyter.widget-state+json": {
    "state": {},
    "version_major": 2,
    "version_minor": 0
   }
  }
 },
 "nbformat": 4,
 "nbformat_minor": 2
}
