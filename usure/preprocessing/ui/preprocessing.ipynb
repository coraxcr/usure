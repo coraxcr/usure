{
 "cells": [
  {
   "cell_type": "code",
   "execution_count": 1,
   "metadata": {},
   "outputs": [],
   "source": [
    "import sys\n",
    "import os\n",
    "os.chdir(os.path.abspath(\"../../../\"))\n",
    "import ipywidgets as widgets\n",
    "from ipywidgets import interact, interactive, fixed, interact_manual, HBox\n",
    "from IPython.display import display"
   ]
  },
  {
   "cell_type": "code",
   "execution_count": 2,
   "metadata": {},
   "outputs": [],
   "source": [
    "from usure.preprocessing.app import App\n",
    "from usure.preprocessing.cleaning import CleaningTask\n",
    "from usure.preprocessing.core import Corpus, CorpusRepository\n",
    "from usure.preprocessing.infrastructure import FileCorpusRepository\n",
    "from usure.preprocessing import config\n",
    "import usure.common.logging as usurelogging\n",
    "usurelogging.config(config.log_path)"
   ]
  },
  {
   "cell_type": "code",
   "execution_count": 3,
   "metadata": {},
   "outputs": [
    {
     "name": "stderr",
     "output_type": "stream",
     "text": [
      "INFO root 21:46:59.233 A Func:_transform\n",
      "INFO root 21:46:59.234 ⧖ Corpus: test.txt\n",
      "INFO root 21:46:59.339 ⧖ Processed: 400000\n",
      "INFO root 21:46:59.385 Ω Func:_transform Total: 00:00:00\n"
     ]
    }
   ],
   "source": [
    "raw_corpus_rep = FileCorpusRepository(config.raw_corpora_folder_path)\n",
    "pre_corpus_rep = FileCorpusRepository(config.preprocessed_corpora_folder_path)\n",
    "\n",
    "basic_cleaning_task = CleaningTask.create_basic()\n",
    "twiter_claning_task = CleaningTask.create_twitter()\n",
    "\n",
    "def get_cleaningtask(name:str):\n",
    "    if name == \"tweets.txt\":\n",
    "        return twiter_claning_task\n",
    "    else:\n",
    "        return basic_cleaning_task\n",
    "\n",
    "etl = App(raw_corpus_rep, pre_corpus_rep, get_cleaningtask)\n",
    "etl.do()"
   ]
  },
  {
   "cell_type": "code",
   "execution_count": null,
   "metadata": {},
   "outputs": [],
   "source": []
  }
 ],
 "metadata": {
  "kernelspec": {
   "display_name": "Python 3",
   "language": "python",
   "name": "python3"
  },
  "language_info": {
   "codemirror_mode": {
    "name": "ipython",
    "version": 3
   },
   "file_extension": ".py",
   "mimetype": "text/x-python",
   "name": "python",
   "nbconvert_exporter": "python",
   "pygments_lexer": "ipython3",
   "version": "3.7.3"
  },
  "widgets": {
   "application/vnd.jupyter.widget-state+json": {
    "state": {},
    "version_major": 2,
    "version_minor": 0
   }
  }
 },
 "nbformat": 4,
 "nbformat_minor": 2
}
