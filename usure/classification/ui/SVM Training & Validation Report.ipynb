{
 "cells": [
  {
   "cell_type": "code",
   "execution_count": 1,
   "metadata": {},
   "outputs": [],
   "source": [
    "import sys\n",
    "import os\n",
    "from pprint import pprint\n",
    "sys.path.append(os.path.abspath(\"../../../\"))\n",
    "import warnings\n",
    "warnings.filterwarnings('ignore')\n",
    "from IPython.display import display, HTML\n",
    "from IPython.display import Markdown\n",
    "import ipywidgets as iw\n",
    "import numpy as np\n",
    "import pandas as pd\n",
    "import matplotlib.pyplot as plt\n",
    "import tensorflow as tf"
   ]
  },
  {
   "cell_type": "code",
   "execution_count": 2,
   "metadata": {},
   "outputs": [
    {
     "name": "stderr",
     "output_type": "stream",
     "text": [
      "Using TensorFlow backend.\n"
     ]
    }
   ],
   "source": [
    "import usure.common.logging as usurelogging\n",
    "from usure.config import config\n",
    "from usure.classification.infrastructure import (\n",
    "     BasicSentenceCleaner \n",
    "    ,FileLabeledCommentsDao\n",
    "    ,FileWordVectorsRep\n",
    "    ,CsvLabeledCommentsDao)\n",
    "from usure.classification.core import SvmLab, ClassifierInput, LabReport, WordVectorsService, LabeledComments\n",
    "from usure.classification.infrastructure import FileModelDao\n",
    "import usure.classification.ui.utils as ui"
   ]
  },
  {
   "cell_type": "code",
   "execution_count": 3,
   "metadata": {},
   "outputs": [
    {
     "data": {
      "application/javascript": [
       "IPython.OutputArea.prototype._should_scroll = lines => false\n"
      ],
      "text/plain": [
       "<IPython.core.display.Javascript object>"
      ]
     },
     "metadata": {},
     "output_type": "display_data"
    }
   ],
   "source": [
    "%%javascript\n",
    "IPython.OutputArea.prototype._should_scroll = lines => false"
   ]
  },
  {
   "cell_type": "code",
   "execution_count": 4,
   "metadata": {},
   "outputs": [],
   "source": [
    "pd.set_option('colheader_justify', 'left')\n",
    "pd.set_option('display.max_colwidth', 200)"
   ]
  },
  {
   "cell_type": "code",
   "execution_count": 5,
   "metadata": {},
   "outputs": [],
   "source": [
    "cleaner = BasicSentenceCleaner(config.assets)\n",
    "comments_dao = CsvLabeledCommentsDao(config.sets, cleaner)\n",
    "wv_rep = FileWordVectorsRep(config.embeddings)\n",
    "model_dao = FileModelDao(config.models)\n",
    "lab = SvmLab(model_dao)\n",
    "comments = comments_dao.get(\"train.csv\")\n",
    "test_comments = comments_dao.get(\"test.csv\")\n",
    "test_inputs = []"
   ]
  },
  {
   "cell_type": "code",
   "execution_count": 6,
   "metadata": {},
   "outputs": [],
   "source": [
    "def classification_lab_report(word_vector_no, input, lab):\n",
    "    display(Markdown(f'## {word_vector_no}. Creating models with embeddings: {input.embeddings_name}'))\n",
    "    lab_report = lab.train_by_stratifiedkfold(input, folds=10)\n",
    "    return lab_report\n",
    "\n",
    "def model_architecture_summary(lab_report):\n",
    "    display(Markdown(f'### Mean Accuracies and losses'))\n",
    "    display(lab_report.summary)\n",
    "    display(Markdown(f'### Accuracies and losses by Stratified KFold (folds with balanced class distributions)'))\n",
    "    model_reports_df = ui.model_reports_to_DataFrame(lab_report.model_reports)\n",
    "    display(model_reports_df) \n",
    "    \n",
    "def show_statistics_by_model(word_vector_no, word_vector_name, lab_report):\n",
    "    \"\"\"Shows statistics by models created by every folds\"\"\"\n",
    "    display(Markdown(f'## {word_vector_no+1}. {word_vector_name}'))\n",
    "    for fold_no, model_report in enumerate(lab_report.model_reports):\n",
    "        display(Markdown(f'### Fold number: {fold_no+1}. Name: {model_report.name}'))\n",
    "        ui.plot_learning_curves_if_epoches(model_report)\n",
    "        display(Markdown(f'### Training'))\n",
    "        print(model_report.training.classification_report)\n",
    "        confu_mtx = model_report.training.confusion_matrix\n",
    "        display(confu_mtx)\n",
    "        display(Markdown(f'### Validation'))\n",
    "        print(model_report.validation.classification_report)\n",
    "        confu_mtx = model_report.validation.confusion_matrix\n",
    "        display(confu_mtx)\n",
    "        display(Markdown(f'### Test'))\n",
    "        test_metrics, labeled_predictions = lab.test(model_report.name, test_inputs[word_vector_no])\n",
    "        print(f\"Accuracy: {test_metrics.accuracy}\")\n",
    "        print(f\"Loss: {test_metrics.loss}\")\n",
    "        print(test_metrics.classification_report)\n",
    "        display(test_metrics.confusion_matrix)\n",
    "        test_labeled_comments = test_inputs[word_vector_no].labeled_comments\n",
    "        labeled_comments = LabeledComments(f\"{model_report.name}-{word_vector_name}.cnn.csv\",test_labeled_comments.comments ,labeled_predictions)\n",
    "        comments_dao.save_from_origin(labeled_comments, \"test.csv\")"
   ]
  },
  {
   "cell_type": "code",
   "execution_count": null,
   "metadata": {},
   "outputs": [
    {
     "data": {
      "text/markdown": [
       "# Suport Vector Machine"
      ],
      "text/plain": [
       "<IPython.core.display.Markdown object>"
      ]
     },
     "metadata": {},
     "output_type": "display_data"
    },
    {
     "data": {
      "text/markdown": [
       "## 1. Creating models with embeddings: CorpusFBCR2013.txt.usu.bw.kvs"
      ],
      "text/plain": [
       "<IPython.core.display.Markdown object>"
      ]
     },
     "metadata": {},
     "output_type": "display_data"
    },
    {
     "data": {
      "text/markdown": [
       "### Mean Accuracies and losses"
      ],
      "text/plain": [
       "<IPython.core.display.Markdown object>"
      ]
     },
     "metadata": {},
     "output_type": "display_data"
    },
    {
     "data": {
      "text/html": [
       "<div>\n",
       "<style scoped>\n",
       "    .dataframe tbody tr th:only-of-type {\n",
       "        vertical-align: middle;\n",
       "    }\n",
       "\n",
       "    .dataframe tbody tr th {\n",
       "        vertical-align: top;\n",
       "    }\n",
       "\n",
       "    .dataframe thead th {\n",
       "        text-align: right;\n",
       "    }\n",
       "</style>\n",
       "<table border=\"1\" class=\"dataframe\">\n",
       "  <thead>\n",
       "    <tr style=\"text-align: left;\">\n",
       "      <th></th>\n",
       "      <th>train_acc_mean</th>\n",
       "      <th>train_acc_stdev</th>\n",
       "      <th>val_acc_mean</th>\n",
       "      <th>val_acc_stdev</th>\n",
       "    </tr>\n",
       "  </thead>\n",
       "  <tbody>\n",
       "    <tr>\n",
       "      <th>0</th>\n",
       "      <td>0.603105</td>\n",
       "      <td>0.009009</td>\n",
       "      <td>0.506229</td>\n",
       "      <td>0.033513</td>\n",
       "    </tr>\n",
       "  </tbody>\n",
       "</table>\n",
       "</div>"
      ],
      "text/plain": [
       "   train_acc_mean  train_acc_stdev  val_acc_mean  val_acc_stdev\n",
       "0  0.603105        0.009009         0.506229      0.033513     "
      ]
     },
     "metadata": {},
     "output_type": "display_data"
    },
    {
     "data": {
      "text/markdown": [
       "### Accuracies and losses by Stratified KFold (folds with balanced class distributions)"
      ],
      "text/plain": [
       "<IPython.core.display.Markdown object>"
      ]
     },
     "metadata": {},
     "output_type": "display_data"
    },
    {
     "data": {
      "text/html": [
       "<div>\n",
       "<style scoped>\n",
       "    .dataframe tbody tr th:only-of-type {\n",
       "        vertical-align: middle;\n",
       "    }\n",
       "\n",
       "    .dataframe tbody tr th {\n",
       "        vertical-align: top;\n",
       "    }\n",
       "\n",
       "    .dataframe thead th {\n",
       "        text-align: right;\n",
       "    }\n",
       "</style>\n",
       "<table border=\"1\" class=\"dataframe\">\n",
       "  <thead>\n",
       "    <tr style=\"text-align: left;\">\n",
       "      <th></th>\n",
       "      <th>model name</th>\n",
       "      <th>train_acc</th>\n",
       "      <th>train_loss</th>\n",
       "      <th>val_acc</th>\n",
       "      <th>val_loss</th>\n",
       "    </tr>\n",
       "  </thead>\n",
       "  <tbody>\n",
       "    <tr>\n",
       "      <th>0</th>\n",
       "      <td>fa4cc2280f954e2ca6e59770f0abafae</td>\n",
       "      <td>0.588740</td>\n",
       "      <td>0.978398</td>\n",
       "      <td>0.500000</td>\n",
       "      <td>1.164455</td>\n",
       "    </tr>\n",
       "    <tr>\n",
       "      <th>1</th>\n",
       "      <td>584b91c288d64882b361cdaddcaf3fb4</td>\n",
       "      <td>0.616412</td>\n",
       "      <td>0.946215</td>\n",
       "      <td>0.483051</td>\n",
       "      <td>1.178563</td>\n",
       "    </tr>\n",
       "    <tr>\n",
       "      <th>2</th>\n",
       "      <td>edfda12dfc95442b90ecd515d318e628</td>\n",
       "      <td>0.601145</td>\n",
       "      <td>0.964906</td>\n",
       "      <td>0.483051</td>\n",
       "      <td>1.157143</td>\n",
       "    </tr>\n",
       "    <tr>\n",
       "      <th>3</th>\n",
       "      <td>792f8d6d27c143ae9491a94620950148</td>\n",
       "      <td>0.590086</td>\n",
       "      <td>0.996671</td>\n",
       "      <td>0.521368</td>\n",
       "      <td>1.126805</td>\n",
       "    </tr>\n",
       "    <tr>\n",
       "      <th>4</th>\n",
       "      <td>0da52d5a736e465fa37d479ba5eb7425</td>\n",
       "      <td>0.600572</td>\n",
       "      <td>0.963307</td>\n",
       "      <td>0.495726</td>\n",
       "      <td>1.179918</td>\n",
       "    </tr>\n",
       "    <tr>\n",
       "      <th>5</th>\n",
       "      <td>1151129676c14511885c985bc8605465</td>\n",
       "      <td>0.612965</td>\n",
       "      <td>0.946937</td>\n",
       "      <td>0.504274</td>\n",
       "      <td>1.229007</td>\n",
       "    </tr>\n",
       "    <tr>\n",
       "      <th>6</th>\n",
       "      <td>665bb1e775914778995e6d1f973e93b8</td>\n",
       "      <td>0.611429</td>\n",
       "      <td>0.960011</td>\n",
       "      <td>0.448276</td>\n",
       "      <td>1.195221</td>\n",
       "    </tr>\n",
       "    <tr>\n",
       "      <th>7</th>\n",
       "      <td>622bf0f6e4514e259205015c0d28efeb</td>\n",
       "      <td>0.603810</td>\n",
       "      <td>0.981805</td>\n",
       "      <td>0.517241</td>\n",
       "      <td>1.150636</td>\n",
       "    </tr>\n",
       "    <tr>\n",
       "      <th>8</th>\n",
       "      <td>5c083f198508433aadbcd2c601cf0276</td>\n",
       "      <td>0.603235</td>\n",
       "      <td>0.976069</td>\n",
       "      <td>0.539130</td>\n",
       "      <td>1.165174</td>\n",
       "    </tr>\n",
       "    <tr>\n",
       "      <th>9</th>\n",
       "      <td>11b8b3ddf93949a1af0067362b4cb082</td>\n",
       "      <td>0.602662</td>\n",
       "      <td>0.970335</td>\n",
       "      <td>0.570175</td>\n",
       "      <td>1.136160</td>\n",
       "    </tr>\n",
       "  </tbody>\n",
       "</table>\n",
       "</div>"
      ],
      "text/plain": [
       "  model name                         train_acc  train_loss  val_acc   val_loss\n",
       "0  fa4cc2280f954e2ca6e59770f0abafae  0.588740   0.978398    0.500000  1.164455\n",
       "1  584b91c288d64882b361cdaddcaf3fb4  0.616412   0.946215    0.483051  1.178563\n",
       "2  edfda12dfc95442b90ecd515d318e628  0.601145   0.964906    0.483051  1.157143\n",
       "3  792f8d6d27c143ae9491a94620950148  0.590086   0.996671    0.521368  1.126805\n",
       "4  0da52d5a736e465fa37d479ba5eb7425  0.600572   0.963307    0.495726  1.179918\n",
       "5  1151129676c14511885c985bc8605465  0.612965   0.946937    0.504274  1.229007\n",
       "6  665bb1e775914778995e6d1f973e93b8  0.611429   0.960011    0.448276  1.195221\n",
       "7  622bf0f6e4514e259205015c0d28efeb  0.603810   0.981805    0.517241  1.150636\n",
       "8  5c083f198508433aadbcd2c601cf0276  0.603235   0.976069    0.539130  1.165174\n",
       "9  11b8b3ddf93949a1af0067362b4cb082  0.602662   0.970335    0.570175  1.136160"
      ]
     },
     "metadata": {},
     "output_type": "display_data"
    },
    {
     "data": {
      "text/markdown": [
       "## 2. Creating models with embeddings: CorpusFBCR2013.txt.usu.sw.kvs"
      ],
      "text/plain": [
       "<IPython.core.display.Markdown object>"
      ]
     },
     "metadata": {},
     "output_type": "display_data"
    },
    {
     "data": {
      "text/markdown": [
       "### Mean Accuracies and losses"
      ],
      "text/plain": [
       "<IPython.core.display.Markdown object>"
      ]
     },
     "metadata": {},
     "output_type": "display_data"
    },
    {
     "data": {
      "text/html": [
       "<div>\n",
       "<style scoped>\n",
       "    .dataframe tbody tr th:only-of-type {\n",
       "        vertical-align: middle;\n",
       "    }\n",
       "\n",
       "    .dataframe tbody tr th {\n",
       "        vertical-align: top;\n",
       "    }\n",
       "\n",
       "    .dataframe thead th {\n",
       "        text-align: right;\n",
       "    }\n",
       "</style>\n",
       "<table border=\"1\" class=\"dataframe\">\n",
       "  <thead>\n",
       "    <tr style=\"text-align: left;\">\n",
       "      <th></th>\n",
       "      <th>train_acc_mean</th>\n",
       "      <th>train_acc_stdev</th>\n",
       "      <th>val_acc_mean</th>\n",
       "      <th>val_acc_stdev</th>\n",
       "    </tr>\n",
       "  </thead>\n",
       "  <tbody>\n",
       "    <tr>\n",
       "      <th>0</th>\n",
       "      <td>0.615684</td>\n",
       "      <td>0.008415</td>\n",
       "      <td>0.505805</td>\n",
       "      <td>0.042922</td>\n",
       "    </tr>\n",
       "  </tbody>\n",
       "</table>\n",
       "</div>"
      ],
      "text/plain": [
       "   train_acc_mean  train_acc_stdev  val_acc_mean  val_acc_stdev\n",
       "0  0.615684        0.008415         0.505805      0.042922     "
      ]
     },
     "metadata": {},
     "output_type": "display_data"
    },
    {
     "data": {
      "text/markdown": [
       "### Accuracies and losses by Stratified KFold (folds with balanced class distributions)"
      ],
      "text/plain": [
       "<IPython.core.display.Markdown object>"
      ]
     },
     "metadata": {},
     "output_type": "display_data"
    },
    {
     "data": {
      "text/html": [
       "<div>\n",
       "<style scoped>\n",
       "    .dataframe tbody tr th:only-of-type {\n",
       "        vertical-align: middle;\n",
       "    }\n",
       "\n",
       "    .dataframe tbody tr th {\n",
       "        vertical-align: top;\n",
       "    }\n",
       "\n",
       "    .dataframe thead th {\n",
       "        text-align: right;\n",
       "    }\n",
       "</style>\n",
       "<table border=\"1\" class=\"dataframe\">\n",
       "  <thead>\n",
       "    <tr style=\"text-align: left;\">\n",
       "      <th></th>\n",
       "      <th>model name</th>\n",
       "      <th>train_acc</th>\n",
       "      <th>train_loss</th>\n",
       "      <th>val_acc</th>\n",
       "      <th>val_loss</th>\n",
       "    </tr>\n",
       "  </thead>\n",
       "  <tbody>\n",
       "    <tr>\n",
       "      <th>0</th>\n",
       "      <td>eac95f700623407ba1fefc85d838613c</td>\n",
       "      <td>0.604962</td>\n",
       "      <td>0.987332</td>\n",
       "      <td>0.533898</td>\n",
       "      <td>1.157721</td>\n",
       "    </tr>\n",
       "    <tr>\n",
       "      <th>1</th>\n",
       "      <td>e5498edcb4574de7b2fd550f79841779</td>\n",
       "      <td>0.620229</td>\n",
       "      <td>0.990112</td>\n",
       "      <td>0.550847</td>\n",
       "      <td>1.102816</td>\n",
       "    </tr>\n",
       "    <tr>\n",
       "      <th>2</th>\n",
       "      <td>c6fcef528a104b818dc1fded965aed9c</td>\n",
       "      <td>0.624046</td>\n",
       "      <td>0.958837</td>\n",
       "      <td>0.525424</td>\n",
       "      <td>1.200535</td>\n",
       "    </tr>\n",
       "    <tr>\n",
       "      <th>3</th>\n",
       "      <td>a38357ddfc534cb5a407eb84b895ac47</td>\n",
       "      <td>0.609152</td>\n",
       "      <td>0.979428</td>\n",
       "      <td>0.538462</td>\n",
       "      <td>1.098635</td>\n",
       "    </tr>\n",
       "    <tr>\n",
       "      <th>4</th>\n",
       "      <td>b5f2cfd8481341e986aa95447c038a53</td>\n",
       "      <td>0.619638</td>\n",
       "      <td>0.965965</td>\n",
       "      <td>0.452991</td>\n",
       "      <td>1.209660</td>\n",
       "    </tr>\n",
       "    <tr>\n",
       "      <th>5</th>\n",
       "      <td>9e6559167dbb4133beb38c0d01d26315</td>\n",
       "      <td>0.618684</td>\n",
       "      <td>0.955690</td>\n",
       "      <td>0.444444</td>\n",
       "      <td>1.231778</td>\n",
       "    </tr>\n",
       "    <tr>\n",
       "      <th>6</th>\n",
       "      <td>fc52c69a26514810bc5880b685a2c0b2</td>\n",
       "      <td>0.618095</td>\n",
       "      <td>0.957086</td>\n",
       "      <td>0.551724</td>\n",
       "      <td>1.164691</td>\n",
       "    </tr>\n",
       "    <tr>\n",
       "      <th>7</th>\n",
       "      <td>a4c705c5f1f0474f8683c3053b16f388</td>\n",
       "      <td>0.599048</td>\n",
       "      <td>0.989437</td>\n",
       "      <td>0.517241</td>\n",
       "      <td>1.106289</td>\n",
       "    </tr>\n",
       "    <tr>\n",
       "      <th>8</th>\n",
       "      <td>5374d849b0164e24aa4b9c89265feb39</td>\n",
       "      <td>0.624167</td>\n",
       "      <td>0.975924</td>\n",
       "      <td>0.495652</td>\n",
       "      <td>1.196772</td>\n",
       "    </tr>\n",
       "    <tr>\n",
       "      <th>9</th>\n",
       "      <td>39523724bf304ea8877ccbbf8496c046</td>\n",
       "      <td>0.618821</td>\n",
       "      <td>0.951282</td>\n",
       "      <td>0.447368</td>\n",
       "      <td>1.260744</td>\n",
       "    </tr>\n",
       "  </tbody>\n",
       "</table>\n",
       "</div>"
      ],
      "text/plain": [
       "  model name                         train_acc  train_loss  val_acc   val_loss\n",
       "0  eac95f700623407ba1fefc85d838613c  0.604962   0.987332    0.533898  1.157721\n",
       "1  e5498edcb4574de7b2fd550f79841779  0.620229   0.990112    0.550847  1.102816\n",
       "2  c6fcef528a104b818dc1fded965aed9c  0.624046   0.958837    0.525424  1.200535\n",
       "3  a38357ddfc534cb5a407eb84b895ac47  0.609152   0.979428    0.538462  1.098635\n",
       "4  b5f2cfd8481341e986aa95447c038a53  0.619638   0.965965    0.452991  1.209660\n",
       "5  9e6559167dbb4133beb38c0d01d26315  0.618684   0.955690    0.444444  1.231778\n",
       "6  fc52c69a26514810bc5880b685a2c0b2  0.618095   0.957086    0.551724  1.164691\n",
       "7  a4c705c5f1f0474f8683c3053b16f388  0.599048   0.989437    0.517241  1.106289\n",
       "8  5374d849b0164e24aa4b9c89265feb39  0.624167   0.975924    0.495652  1.196772\n",
       "9  39523724bf304ea8877ccbbf8496c046  0.618821   0.951282    0.447368  1.260744"
      ]
     },
     "metadata": {},
     "output_type": "display_data"
    },
    {
     "data": {
      "text/markdown": [
       "## 3. Creating models with embeddings: tweets.txt.usu.bw.kvs"
      ],
      "text/plain": [
       "<IPython.core.display.Markdown object>"
      ]
     },
     "metadata": {},
     "output_type": "display_data"
    },
    {
     "data": {
      "text/markdown": [
       "### Mean Accuracies and losses"
      ],
      "text/plain": [
       "<IPython.core.display.Markdown object>"
      ]
     },
     "metadata": {},
     "output_type": "display_data"
    },
    {
     "data": {
      "text/html": [
       "<div>\n",
       "<style scoped>\n",
       "    .dataframe tbody tr th:only-of-type {\n",
       "        vertical-align: middle;\n",
       "    }\n",
       "\n",
       "    .dataframe tbody tr th {\n",
       "        vertical-align: top;\n",
       "    }\n",
       "\n",
       "    .dataframe thead th {\n",
       "        text-align: right;\n",
       "    }\n",
       "</style>\n",
       "<table border=\"1\" class=\"dataframe\">\n",
       "  <thead>\n",
       "    <tr style=\"text-align: left;\">\n",
       "      <th></th>\n",
       "      <th>train_acc_mean</th>\n",
       "      <th>train_acc_stdev</th>\n",
       "      <th>val_acc_mean</th>\n",
       "      <th>val_acc_stdev</th>\n",
       "    </tr>\n",
       "  </thead>\n",
       "  <tbody>\n",
       "    <tr>\n",
       "      <th>0</th>\n",
       "      <td>0.624733</td>\n",
       "      <td>0.010621</td>\n",
       "      <td>0.521965</td>\n",
       "      <td>0.042149</td>\n",
       "    </tr>\n",
       "  </tbody>\n",
       "</table>\n",
       "</div>"
      ],
      "text/plain": [
       "   train_acc_mean  train_acc_stdev  val_acc_mean  val_acc_stdev\n",
       "0  0.624733        0.010621         0.521965      0.042149     "
      ]
     },
     "metadata": {},
     "output_type": "display_data"
    },
    {
     "data": {
      "text/markdown": [
       "### Accuracies and losses by Stratified KFold (folds with balanced class distributions)"
      ],
      "text/plain": [
       "<IPython.core.display.Markdown object>"
      ]
     },
     "metadata": {},
     "output_type": "display_data"
    },
    {
     "data": {
      "text/html": [
       "<div>\n",
       "<style scoped>\n",
       "    .dataframe tbody tr th:only-of-type {\n",
       "        vertical-align: middle;\n",
       "    }\n",
       "\n",
       "    .dataframe tbody tr th {\n",
       "        vertical-align: top;\n",
       "    }\n",
       "\n",
       "    .dataframe thead th {\n",
       "        text-align: right;\n",
       "    }\n",
       "</style>\n",
       "<table border=\"1\" class=\"dataframe\">\n",
       "  <thead>\n",
       "    <tr style=\"text-align: left;\">\n",
       "      <th></th>\n",
       "      <th>model name</th>\n",
       "      <th>train_acc</th>\n",
       "      <th>train_loss</th>\n",
       "      <th>val_acc</th>\n",
       "      <th>val_loss</th>\n",
       "    </tr>\n",
       "  </thead>\n",
       "  <tbody>\n",
       "    <tr>\n",
       "      <th>0</th>\n",
       "      <td>4156a60ce6854863b4588c31deffde7b</td>\n",
       "      <td>0.622137</td>\n",
       "      <td>0.883402</td>\n",
       "      <td>0.525424</td>\n",
       "      <td>1.167512</td>\n",
       "    </tr>\n",
       "    <tr>\n",
       "      <th>1</th>\n",
       "      <td>357adf25c646404ea7a2d90ac31670cf</td>\n",
       "      <td>0.612595</td>\n",
       "      <td>0.918894</td>\n",
       "      <td>0.567797</td>\n",
       "      <td>1.074952</td>\n",
       "    </tr>\n",
       "    <tr>\n",
       "      <th>2</th>\n",
       "      <td>263011b2b1fe446f91837633b3776258</td>\n",
       "      <td>0.616412</td>\n",
       "      <td>0.918886</td>\n",
       "      <td>0.584746</td>\n",
       "      <td>1.036477</td>\n",
       "    </tr>\n",
       "    <tr>\n",
       "      <th>3</th>\n",
       "      <td>90cf2624711744e1a591b8879a54f6c5</td>\n",
       "      <td>0.621544</td>\n",
       "      <td>0.902573</td>\n",
       "      <td>0.521368</td>\n",
       "      <td>1.065163</td>\n",
       "    </tr>\n",
       "    <tr>\n",
       "      <th>4</th>\n",
       "      <td>9f13bf14cb77489fbf6c054bd0960d92</td>\n",
       "      <td>0.632031</td>\n",
       "      <td>0.919060</td>\n",
       "      <td>0.521368</td>\n",
       "      <td>1.096087</td>\n",
       "    </tr>\n",
       "    <tr>\n",
       "      <th>5</th>\n",
       "      <td>0497960fb2074b2898cddd93a51dffe3</td>\n",
       "      <td>0.640610</td>\n",
       "      <td>0.895708</td>\n",
       "      <td>0.504274</td>\n",
       "      <td>1.196235</td>\n",
       "    </tr>\n",
       "    <tr>\n",
       "      <th>6</th>\n",
       "      <td>23db7007648049b2bdba94c8cef2265c</td>\n",
       "      <td>0.612381</td>\n",
       "      <td>0.919116</td>\n",
       "      <td>0.560345</td>\n",
       "      <td>1.057737</td>\n",
       "    </tr>\n",
       "    <tr>\n",
       "      <th>7</th>\n",
       "      <td>f76a6f87251e4776b2be11237bab96f8</td>\n",
       "      <td>0.620952</td>\n",
       "      <td>0.905222</td>\n",
       "      <td>0.517241</td>\n",
       "      <td>1.132765</td>\n",
       "    </tr>\n",
       "    <tr>\n",
       "      <th>8</th>\n",
       "      <td>84a60285401f43d1a1520414d977aec1</td>\n",
       "      <td>0.642245</td>\n",
       "      <td>0.884041</td>\n",
       "      <td>0.452174</td>\n",
       "      <td>1.192187</td>\n",
       "    </tr>\n",
       "    <tr>\n",
       "      <th>9</th>\n",
       "      <td>20f5c266b4e2467296f42b9effdd795c</td>\n",
       "      <td>0.626426</td>\n",
       "      <td>0.889955</td>\n",
       "      <td>0.464912</td>\n",
       "      <td>1.169194</td>\n",
       "    </tr>\n",
       "  </tbody>\n",
       "</table>\n",
       "</div>"
      ],
      "text/plain": [
       "  model name                         train_acc  train_loss  val_acc   val_loss\n",
       "0  4156a60ce6854863b4588c31deffde7b  0.622137   0.883402    0.525424  1.167512\n",
       "1  357adf25c646404ea7a2d90ac31670cf  0.612595   0.918894    0.567797  1.074952\n",
       "2  263011b2b1fe446f91837633b3776258  0.616412   0.918886    0.584746  1.036477\n",
       "3  90cf2624711744e1a591b8879a54f6c5  0.621544   0.902573    0.521368  1.065163\n",
       "4  9f13bf14cb77489fbf6c054bd0960d92  0.632031   0.919060    0.521368  1.096087\n",
       "5  0497960fb2074b2898cddd93a51dffe3  0.640610   0.895708    0.504274  1.196235\n",
       "6  23db7007648049b2bdba94c8cef2265c  0.612381   0.919116    0.560345  1.057737\n",
       "7  f76a6f87251e4776b2be11237bab96f8  0.620952   0.905222    0.517241  1.132765\n",
       "8  84a60285401f43d1a1520414d977aec1  0.642245   0.884041    0.452174  1.192187\n",
       "9  20f5c266b4e2467296f42b9effdd795c  0.626426   0.889955    0.464912  1.169194"
      ]
     },
     "metadata": {},
     "output_type": "display_data"
    },
    {
     "data": {
      "text/markdown": [
       "## 4. Creating models with embeddings: tweets.txt.usu.sw.kvs"
      ],
      "text/plain": [
       "<IPython.core.display.Markdown object>"
      ]
     },
     "metadata": {},
     "output_type": "display_data"
    },
    {
     "data": {
      "text/markdown": [
       "### Mean Accuracies and losses"
      ],
      "text/plain": [
       "<IPython.core.display.Markdown object>"
      ]
     },
     "metadata": {},
     "output_type": "display_data"
    },
    {
     "data": {
      "text/html": [
       "<div>\n",
       "<style scoped>\n",
       "    .dataframe tbody tr th:only-of-type {\n",
       "        vertical-align: middle;\n",
       "    }\n",
       "\n",
       "    .dataframe tbody tr th {\n",
       "        vertical-align: top;\n",
       "    }\n",
       "\n",
       "    .dataframe thead th {\n",
       "        text-align: right;\n",
       "    }\n",
       "</style>\n",
       "<table border=\"1\" class=\"dataframe\">\n",
       "  <thead>\n",
       "    <tr style=\"text-align: left;\">\n",
       "      <th></th>\n",
       "      <th>train_acc_mean</th>\n",
       "      <th>train_acc_stdev</th>\n",
       "      <th>val_acc_mean</th>\n",
       "      <th>val_acc_stdev</th>\n",
       "    </tr>\n",
       "  </thead>\n",
       "  <tbody>\n",
       "    <tr>\n",
       "      <th>0</th>\n",
       "      <td>0.637795</td>\n",
       "      <td>0.005874</td>\n",
       "      <td>0.535855</td>\n",
       "      <td>0.042696</td>\n",
       "    </tr>\n",
       "  </tbody>\n",
       "</table>\n",
       "</div>"
      ],
      "text/plain": [
       "   train_acc_mean  train_acc_stdev  val_acc_mean  val_acc_stdev\n",
       "0  0.637795        0.005874         0.535855      0.042696     "
      ]
     },
     "metadata": {},
     "output_type": "display_data"
    },
    {
     "data": {
      "text/markdown": [
       "### Accuracies and losses by Stratified KFold (folds with balanced class distributions)"
      ],
      "text/plain": [
       "<IPython.core.display.Markdown object>"
      ]
     },
     "metadata": {},
     "output_type": "display_data"
    },
    {
     "data": {
      "text/html": [
       "<div>\n",
       "<style scoped>\n",
       "    .dataframe tbody tr th:only-of-type {\n",
       "        vertical-align: middle;\n",
       "    }\n",
       "\n",
       "    .dataframe tbody tr th {\n",
       "        vertical-align: top;\n",
       "    }\n",
       "\n",
       "    .dataframe thead th {\n",
       "        text-align: right;\n",
       "    }\n",
       "</style>\n",
       "<table border=\"1\" class=\"dataframe\">\n",
       "  <thead>\n",
       "    <tr style=\"text-align: left;\">\n",
       "      <th></th>\n",
       "      <th>model name</th>\n",
       "      <th>train_acc</th>\n",
       "      <th>train_loss</th>\n",
       "      <th>val_acc</th>\n",
       "      <th>val_loss</th>\n",
       "    </tr>\n",
       "  </thead>\n",
       "  <tbody>\n",
       "    <tr>\n",
       "      <th>0</th>\n",
       "      <td>ecd92b52b8154e298705409c0aa15796</td>\n",
       "      <td>0.647901</td>\n",
       "      <td>0.861294</td>\n",
       "      <td>0.474576</td>\n",
       "      <td>1.184344</td>\n",
       "    </tr>\n",
       "    <tr>\n",
       "      <th>1</th>\n",
       "      <td>6cf9e690f14240009ffab7d8a368f4e2</td>\n",
       "      <td>0.633588</td>\n",
       "      <td>0.902204</td>\n",
       "      <td>0.584746</td>\n",
       "      <td>1.042084</td>\n",
       "    </tr>\n",
       "    <tr>\n",
       "      <th>2</th>\n",
       "      <td>e75e703637224a99a7fa63fc9496c25f</td>\n",
       "      <td>0.636450</td>\n",
       "      <td>0.901472</td>\n",
       "      <td>0.542373</td>\n",
       "      <td>1.054080</td>\n",
       "    </tr>\n",
       "    <tr>\n",
       "      <th>3</th>\n",
       "      <td>c2adff136cf84c9ba66f026f39126747</td>\n",
       "      <td>0.632031</td>\n",
       "      <td>0.905340</td>\n",
       "      <td>0.598291</td>\n",
       "      <td>1.024706</td>\n",
       "    </tr>\n",
       "    <tr>\n",
       "      <th>4</th>\n",
       "      <td>8fe2248b3a0545049a6534b5e7ed4ec3</td>\n",
       "      <td>0.637750</td>\n",
       "      <td>0.903306</td>\n",
       "      <td>0.547009</td>\n",
       "      <td>1.088542</td>\n",
       "    </tr>\n",
       "    <tr>\n",
       "      <th>5</th>\n",
       "      <td>8ad733ad936a46d7acdbbad822a7bc9b</td>\n",
       "      <td>0.645377</td>\n",
       "      <td>0.895660</td>\n",
       "      <td>0.572650</td>\n",
       "      <td>1.103381</td>\n",
       "    </tr>\n",
       "    <tr>\n",
       "      <th>6</th>\n",
       "      <td>36c5e28c0c284abdbfcd426992cc45e7</td>\n",
       "      <td>0.636190</td>\n",
       "      <td>0.882567</td>\n",
       "      <td>0.534483</td>\n",
       "      <td>1.081609</td>\n",
       "    </tr>\n",
       "    <tr>\n",
       "      <th>7</th>\n",
       "      <td>cad17b08216649779dff5f2a8d2d5caa</td>\n",
       "      <td>0.641905</td>\n",
       "      <td>0.868014</td>\n",
       "      <td>0.482759</td>\n",
       "      <td>1.224046</td>\n",
       "    </tr>\n",
       "    <tr>\n",
       "      <th>8</th>\n",
       "      <td>0ba454b191674055a2fc9c3eb4f0415a</td>\n",
       "      <td>0.628925</td>\n",
       "      <td>0.900539</td>\n",
       "      <td>0.530435</td>\n",
       "      <td>1.124314</td>\n",
       "    </tr>\n",
       "    <tr>\n",
       "      <th>9</th>\n",
       "      <td>c93ce1a4bdc848f29642026ca978d6b9</td>\n",
       "      <td>0.637833</td>\n",
       "      <td>0.874982</td>\n",
       "      <td>0.491228</td>\n",
       "      <td>1.155178</td>\n",
       "    </tr>\n",
       "  </tbody>\n",
       "</table>\n",
       "</div>"
      ],
      "text/plain": [
       "  model name                         train_acc  train_loss  val_acc   val_loss\n",
       "0  ecd92b52b8154e298705409c0aa15796  0.647901   0.861294    0.474576  1.184344\n",
       "1  6cf9e690f14240009ffab7d8a368f4e2  0.633588   0.902204    0.584746  1.042084\n",
       "2  e75e703637224a99a7fa63fc9496c25f  0.636450   0.901472    0.542373  1.054080\n",
       "3  c2adff136cf84c9ba66f026f39126747  0.632031   0.905340    0.598291  1.024706\n",
       "4  8fe2248b3a0545049a6534b5e7ed4ec3  0.637750   0.903306    0.547009  1.088542\n",
       "5  8ad733ad936a46d7acdbbad822a7bc9b  0.645377   0.895660    0.572650  1.103381\n",
       "6  36c5e28c0c284abdbfcd426992cc45e7  0.636190   0.882567    0.534483  1.081609\n",
       "7  cad17b08216649779dff5f2a8d2d5caa  0.641905   0.868014    0.482759  1.224046\n",
       "8  0ba454b191674055a2fc9c3eb4f0415a  0.628925   0.900539    0.530435  1.124314\n",
       "9  c93ce1a4bdc848f29642026ca978d6b9  0.637833   0.874982    0.491228  1.155178"
      ]
     },
     "metadata": {},
     "output_type": "display_data"
    },
    {
     "data": {
      "text/markdown": [
       "## 5. Creating models with embeddings: SBW-vectors-300-min5.bin"
      ],
      "text/plain": [
       "<IPython.core.display.Markdown object>"
      ]
     },
     "metadata": {},
     "output_type": "display_data"
    },
    {
     "data": {
      "text/markdown": [
       "### Mean Accuracies and losses"
      ],
      "text/plain": [
       "<IPython.core.display.Markdown object>"
      ]
     },
     "metadata": {},
     "output_type": "display_data"
    },
    {
     "data": {
      "text/html": [
       "<div>\n",
       "<style scoped>\n",
       "    .dataframe tbody tr th:only-of-type {\n",
       "        vertical-align: middle;\n",
       "    }\n",
       "\n",
       "    .dataframe tbody tr th {\n",
       "        vertical-align: top;\n",
       "    }\n",
       "\n",
       "    .dataframe thead th {\n",
       "        text-align: right;\n",
       "    }\n",
       "</style>\n",
       "<table border=\"1\" class=\"dataframe\">\n",
       "  <thead>\n",
       "    <tr style=\"text-align: left;\">\n",
       "      <th></th>\n",
       "      <th>train_acc_mean</th>\n",
       "      <th>train_acc_stdev</th>\n",
       "      <th>val_acc_mean</th>\n",
       "      <th>val_acc_stdev</th>\n",
       "    </tr>\n",
       "  </thead>\n",
       "  <tbody>\n",
       "    <tr>\n",
       "      <th>0</th>\n",
       "      <td>0.59291</td>\n",
       "      <td>0.005929</td>\n",
       "      <td>0.514834</td>\n",
       "      <td>0.034616</td>\n",
       "    </tr>\n",
       "  </tbody>\n",
       "</table>\n",
       "</div>"
      ],
      "text/plain": [
       "   train_acc_mean  train_acc_stdev  val_acc_mean  val_acc_stdev\n",
       "0  0.59291         0.005929         0.514834      0.034616     "
      ]
     },
     "metadata": {},
     "output_type": "display_data"
    },
    {
     "data": {
      "text/markdown": [
       "### Accuracies and losses by Stratified KFold (folds with balanced class distributions)"
      ],
      "text/plain": [
       "<IPython.core.display.Markdown object>"
      ]
     },
     "metadata": {},
     "output_type": "display_data"
    },
    {
     "data": {
      "text/html": [
       "<div>\n",
       "<style scoped>\n",
       "    .dataframe tbody tr th:only-of-type {\n",
       "        vertical-align: middle;\n",
       "    }\n",
       "\n",
       "    .dataframe tbody tr th {\n",
       "        vertical-align: top;\n",
       "    }\n",
       "\n",
       "    .dataframe thead th {\n",
       "        text-align: right;\n",
       "    }\n",
       "</style>\n",
       "<table border=\"1\" class=\"dataframe\">\n",
       "  <thead>\n",
       "    <tr style=\"text-align: left;\">\n",
       "      <th></th>\n",
       "      <th>model name</th>\n",
       "      <th>train_acc</th>\n",
       "      <th>train_loss</th>\n",
       "      <th>val_acc</th>\n",
       "      <th>val_loss</th>\n",
       "    </tr>\n",
       "  </thead>\n",
       "  <tbody>\n",
       "    <tr>\n",
       "      <th>0</th>\n",
       "      <td>de840a1e673140e289c9b9375177d01d</td>\n",
       "      <td>0.594466</td>\n",
       "      <td>0.989602</td>\n",
       "      <td>0.449153</td>\n",
       "      <td>1.202188</td>\n",
       "    </tr>\n",
       "    <tr>\n",
       "      <th>1</th>\n",
       "      <td>ddf18b23637a4500a67a092f16ed950e</td>\n",
       "      <td>0.594466</td>\n",
       "      <td>0.992424</td>\n",
       "      <td>0.508475</td>\n",
       "      <td>1.156528</td>\n",
       "    </tr>\n",
       "    <tr>\n",
       "      <th>2</th>\n",
       "      <td>b0c3058a7856480eb65d1f9c752562a3</td>\n",
       "      <td>0.589695</td>\n",
       "      <td>0.975242</td>\n",
       "      <td>0.483051</td>\n",
       "      <td>1.205039</td>\n",
       "    </tr>\n",
       "    <tr>\n",
       "      <th>3</th>\n",
       "      <td>51b73e1b4edd4621a0cf4af2eb04eabe</td>\n",
       "      <td>0.584366</td>\n",
       "      <td>0.978328</td>\n",
       "      <td>0.529915</td>\n",
       "      <td>1.182302</td>\n",
       "    </tr>\n",
       "    <tr>\n",
       "      <th>4</th>\n",
       "      <td>6d22fda6ed1b426682e41844c4305de7</td>\n",
       "      <td>0.605338</td>\n",
       "      <td>0.969633</td>\n",
       "      <td>0.487179</td>\n",
       "      <td>1.192994</td>\n",
       "    </tr>\n",
       "    <tr>\n",
       "      <th>5</th>\n",
       "      <td>77ccbb9c63e24824a75a7835f53ef4fd</td>\n",
       "      <td>0.594852</td>\n",
       "      <td>0.981616</td>\n",
       "      <td>0.547009</td>\n",
       "      <td>1.155183</td>\n",
       "    </tr>\n",
       "    <tr>\n",
       "      <th>6</th>\n",
       "      <td>6bc1889b7c4742c7adb2f81145b71683</td>\n",
       "      <td>0.588571</td>\n",
       "      <td>1.001049</td>\n",
       "      <td>0.517241</td>\n",
       "      <td>1.136857</td>\n",
       "    </tr>\n",
       "    <tr>\n",
       "      <th>7</th>\n",
       "      <td>ad462d32d90041e4a64ee399ec6b9f80</td>\n",
       "      <td>0.591429</td>\n",
       "      <td>0.975688</td>\n",
       "      <td>0.517241</td>\n",
       "      <td>1.182919</td>\n",
       "    </tr>\n",
       "    <tr>\n",
       "      <th>8</th>\n",
       "      <td>c8886ad64a8f417b9e857637ac789ce8</td>\n",
       "      <td>0.588011</td>\n",
       "      <td>0.992007</td>\n",
       "      <td>0.565217</td>\n",
       "      <td>1.106237</td>\n",
       "    </tr>\n",
       "    <tr>\n",
       "      <th>9</th>\n",
       "      <td>195e913e1fbd4d9387915c821366836a</td>\n",
       "      <td>0.597909</td>\n",
       "      <td>0.989871</td>\n",
       "      <td>0.543860</td>\n",
       "      <td>1.095989</td>\n",
       "    </tr>\n",
       "  </tbody>\n",
       "</table>\n",
       "</div>"
      ],
      "text/plain": [
       "  model name                         train_acc  train_loss  val_acc   val_loss\n",
       "0  de840a1e673140e289c9b9375177d01d  0.594466   0.989602    0.449153  1.202188\n",
       "1  ddf18b23637a4500a67a092f16ed950e  0.594466   0.992424    0.508475  1.156528\n",
       "2  b0c3058a7856480eb65d1f9c752562a3  0.589695   0.975242    0.483051  1.205039\n",
       "3  51b73e1b4edd4621a0cf4af2eb04eabe  0.584366   0.978328    0.529915  1.182302\n",
       "4  6d22fda6ed1b426682e41844c4305de7  0.605338   0.969633    0.487179  1.192994\n",
       "5  77ccbb9c63e24824a75a7835f53ef4fd  0.594852   0.981616    0.547009  1.155183\n",
       "6  6bc1889b7c4742c7adb2f81145b71683  0.588571   1.001049    0.517241  1.136857\n",
       "7  ad462d32d90041e4a64ee399ec6b9f80  0.591429   0.975688    0.517241  1.182919\n",
       "8  c8886ad64a8f417b9e857637ac789ce8  0.588011   0.992007    0.565217  1.106237\n",
       "9  195e913e1fbd4d9387915c821366836a  0.597909   0.989871    0.543860  1.095989"
      ]
     },
     "metadata": {},
     "output_type": "display_data"
    },
    {
     "data": {
      "text/markdown": [
       "## 1. CorpusFBCR2013.txt.usu.bw.kvs"
      ],
      "text/plain": [
       "<IPython.core.display.Markdown object>"
      ]
     },
     "metadata": {},
     "output_type": "display_data"
    },
    {
     "data": {
      "text/markdown": [
       "### Fold number: 1. Name: fa4cc2280f954e2ca6e59770f0abafae"
      ],
      "text/plain": [
       "<IPython.core.display.Markdown object>"
      ]
     },
     "metadata": {},
     "output_type": "display_data"
    },
    {
     "data": {
      "text/markdown": [
       "### Training"
      ],
      "text/plain": [
       "<IPython.core.display.Markdown object>"
      ]
     },
     "metadata": {},
     "output_type": "display_data"
    },
    {
     "name": "stdout",
     "output_type": "stream",
     "text": [
      "              precision    recall  f1-score   support\n",
      "\n",
      "           N       0.52      0.94      0.67       410\n",
      "         NEU       1.00      0.06      0.11       134\n",
      "        NONE       0.84      0.21      0.34       200\n",
      "           P       0.71      0.59      0.65       304\n",
      "\n",
      "   micro avg       0.59      0.59      0.59      1048\n",
      "   macro avg       0.77      0.45      0.44      1048\n",
      "weighted avg       0.70      0.59      0.53      1048\n",
      "\n"
     ]
    },
    {
     "data": {
      "text/html": [
       "<div>\n",
       "<style scoped>\n",
       "    .dataframe tbody tr th:only-of-type {\n",
       "        vertical-align: middle;\n",
       "    }\n",
       "\n",
       "    .dataframe tbody tr th {\n",
       "        vertical-align: top;\n",
       "    }\n",
       "\n",
       "    .dataframe thead th {\n",
       "        text-align: right;\n",
       "    }\n",
       "</style>\n",
       "<table border=\"1\" class=\"dataframe\">\n",
       "  <thead>\n",
       "    <tr style=\"text-align: left;\">\n",
       "      <th></th>\n",
       "      <th>N</th>\n",
       "      <th>NEU</th>\n",
       "      <th>NONE</th>\n",
       "      <th>P</th>\n",
       "    </tr>\n",
       "    <tr>\n",
       "      <th>Pred/True</th>\n",
       "      <th></th>\n",
       "      <th></th>\n",
       "      <th></th>\n",
       "      <th></th>\n",
       "    </tr>\n",
       "  </thead>\n",
       "  <tbody>\n",
       "    <tr>\n",
       "      <th>N</th>\n",
       "      <td>386</td>\n",
       "      <td>97</td>\n",
       "      <td>133</td>\n",
       "      <td>121</td>\n",
       "    </tr>\n",
       "    <tr>\n",
       "      <th>NEU</th>\n",
       "      <td>0</td>\n",
       "      <td>8</td>\n",
       "      <td>0</td>\n",
       "      <td>0</td>\n",
       "    </tr>\n",
       "    <tr>\n",
       "      <th>NONE</th>\n",
       "      <td>0</td>\n",
       "      <td>5</td>\n",
       "      <td>43</td>\n",
       "      <td>3</td>\n",
       "    </tr>\n",
       "    <tr>\n",
       "      <th>P</th>\n",
       "      <td>24</td>\n",
       "      <td>24</td>\n",
       "      <td>24</td>\n",
       "      <td>180</td>\n",
       "    </tr>\n",
       "  </tbody>\n",
       "</table>\n",
       "</div>"
      ],
      "text/plain": [
       "           N    NEU  NONE  P  \n",
       "Pred/True                     \n",
       "N          386  97   133   121\n",
       "NEU          0   8     0     0\n",
       "NONE         0   5    43     3\n",
       "P           24  24    24   180"
      ]
     },
     "metadata": {},
     "output_type": "display_data"
    },
    {
     "data": {
      "text/markdown": [
       "### Validation"
      ],
      "text/plain": [
       "<IPython.core.display.Markdown object>"
      ]
     },
     "metadata": {},
     "output_type": "display_data"
    },
    {
     "name": "stdout",
     "output_type": "stream",
     "text": [
      "              precision    recall  f1-score   support\n",
      "\n",
      "           N       0.49      0.87      0.63        46\n",
      "         NEU       0.00      0.00      0.00        15\n",
      "        NONE       0.60      0.13      0.21        23\n",
      "           P       0.50      0.47      0.48        34\n",
      "\n",
      "   micro avg       0.50      0.50      0.50       118\n",
      "   macro avg       0.40      0.37      0.33       118\n",
      "weighted avg       0.45      0.50      0.43       118\n",
      "\n"
     ]
    },
    {
     "data": {
      "text/html": [
       "<div>\n",
       "<style scoped>\n",
       "    .dataframe tbody tr th:only-of-type {\n",
       "        vertical-align: middle;\n",
       "    }\n",
       "\n",
       "    .dataframe tbody tr th {\n",
       "        vertical-align: top;\n",
       "    }\n",
       "\n",
       "    .dataframe thead th {\n",
       "        text-align: right;\n",
       "    }\n",
       "</style>\n",
       "<table border=\"1\" class=\"dataframe\">\n",
       "  <thead>\n",
       "    <tr style=\"text-align: left;\">\n",
       "      <th></th>\n",
       "      <th>N</th>\n",
       "      <th>NEU</th>\n",
       "      <th>NONE</th>\n",
       "      <th>P</th>\n",
       "    </tr>\n",
       "    <tr>\n",
       "      <th>Pred/True</th>\n",
       "      <th></th>\n",
       "      <th></th>\n",
       "      <th></th>\n",
       "      <th></th>\n",
       "    </tr>\n",
       "  </thead>\n",
       "  <tbody>\n",
       "    <tr>\n",
       "      <th>N</th>\n",
       "      <td>40</td>\n",
       "      <td>8</td>\n",
       "      <td>16</td>\n",
       "      <td>17</td>\n",
       "    </tr>\n",
       "    <tr>\n",
       "      <th>NEU</th>\n",
       "      <td>0</td>\n",
       "      <td>0</td>\n",
       "      <td>0</td>\n",
       "      <td>0</td>\n",
       "    </tr>\n",
       "    <tr>\n",
       "      <th>NONE</th>\n",
       "      <td>1</td>\n",
       "      <td>0</td>\n",
       "      <td>3</td>\n",
       "      <td>1</td>\n",
       "    </tr>\n",
       "    <tr>\n",
       "      <th>P</th>\n",
       "      <td>5</td>\n",
       "      <td>7</td>\n",
       "      <td>4</td>\n",
       "      <td>16</td>\n",
       "    </tr>\n",
       "  </tbody>\n",
       "</table>\n",
       "</div>"
      ],
      "text/plain": [
       "           N   NEU  NONE  P \n",
       "Pred/True                   \n",
       "N          40  8    16    17\n",
       "NEU         0  0     0     0\n",
       "NONE        1  0     3     1\n",
       "P           5  7     4    16"
      ]
     },
     "metadata": {},
     "output_type": "display_data"
    },
    {
     "data": {
      "text/markdown": [
       "### Test"
      ],
      "text/plain": [
       "<IPython.core.display.Markdown object>"
      ]
     },
     "metadata": {},
     "output_type": "display_data"
    },
    {
     "name": "stdout",
     "output_type": "stream",
     "text": [
      "Accuracy: 0.4995715509854327\n",
      "Loss: 1.1807735300142308\n",
      "              precision    recall  f1-score   support\n",
      "\n",
      "           N       0.47      0.90      0.62       456\n",
      "         NEU       0.00      0.00      0.00       148\n",
      "        NONE       0.49      0.08      0.14       224\n",
      "           P       0.60      0.46      0.52       339\n",
      "\n",
      "   micro avg       0.50      0.50      0.50      1167\n",
      "   macro avg       0.39      0.36      0.32      1167\n",
      "weighted avg       0.45      0.50      0.42      1167\n",
      "\n"
     ]
    },
    {
     "data": {
      "text/html": [
       "<div>\n",
       "<style scoped>\n",
       "    .dataframe tbody tr th:only-of-type {\n",
       "        vertical-align: middle;\n",
       "    }\n",
       "\n",
       "    .dataframe tbody tr th {\n",
       "        vertical-align: top;\n",
       "    }\n",
       "\n",
       "    .dataframe thead th {\n",
       "        text-align: right;\n",
       "    }\n",
       "</style>\n",
       "<table border=\"1\" class=\"dataframe\">\n",
       "  <thead>\n",
       "    <tr style=\"text-align: left;\">\n",
       "      <th></th>\n",
       "      <th>N</th>\n",
       "      <th>NEU</th>\n",
       "      <th>NONE</th>\n",
       "      <th>P</th>\n",
       "    </tr>\n",
       "    <tr>\n",
       "      <th>Pred/True</th>\n",
       "      <th></th>\n",
       "      <th></th>\n",
       "      <th></th>\n",
       "      <th></th>\n",
       "    </tr>\n",
       "  </thead>\n",
       "  <tbody>\n",
       "    <tr>\n",
       "      <th>N</th>\n",
       "      <td>409</td>\n",
       "      <td>116</td>\n",
       "      <td>172</td>\n",
       "      <td>174</td>\n",
       "    </tr>\n",
       "    <tr>\n",
       "      <th>NEU</th>\n",
       "      <td>0</td>\n",
       "      <td>0</td>\n",
       "      <td>1</td>\n",
       "      <td>0</td>\n",
       "    </tr>\n",
       "    <tr>\n",
       "      <th>NONE</th>\n",
       "      <td>6</td>\n",
       "      <td>4</td>\n",
       "      <td>18</td>\n",
       "      <td>9</td>\n",
       "    </tr>\n",
       "    <tr>\n",
       "      <th>P</th>\n",
       "      <td>41</td>\n",
       "      <td>28</td>\n",
       "      <td>33</td>\n",
       "      <td>156</td>\n",
       "    </tr>\n",
       "  </tbody>\n",
       "</table>\n",
       "</div>"
      ],
      "text/plain": [
       "           N    NEU  NONE  P  \n",
       "Pred/True                     \n",
       "N          409  116  172   174\n",
       "NEU          0    0    1     0\n",
       "NONE         6    4   18     9\n",
       "P           41   28   33   156"
      ]
     },
     "metadata": {},
     "output_type": "display_data"
    },
    {
     "data": {
      "text/markdown": [
       "### Fold number: 2. Name: 584b91c288d64882b361cdaddcaf3fb4"
      ],
      "text/plain": [
       "<IPython.core.display.Markdown object>"
      ]
     },
     "metadata": {},
     "output_type": "display_data"
    },
    {
     "data": {
      "text/markdown": [
       "### Training"
      ],
      "text/plain": [
       "<IPython.core.display.Markdown object>"
      ]
     },
     "metadata": {},
     "output_type": "display_data"
    },
    {
     "name": "stdout",
     "output_type": "stream",
     "text": [
      "              precision    recall  f1-score   support\n",
      "\n",
      "           N       0.55      0.94      0.70       410\n",
      "         NEU       1.00      0.05      0.10       134\n",
      "        NONE       0.79      0.26      0.39       200\n",
      "           P       0.72      0.67      0.69       304\n",
      "\n",
      "   micro avg       0.62      0.62      0.62      1048\n",
      "   macro avg       0.77      0.48      0.47      1048\n",
      "weighted avg       0.70      0.62      0.56      1048\n",
      "\n"
     ]
    },
    {
     "data": {
      "text/html": [
       "<div>\n",
       "<style scoped>\n",
       "    .dataframe tbody tr th:only-of-type {\n",
       "        vertical-align: middle;\n",
       "    }\n",
       "\n",
       "    .dataframe tbody tr th {\n",
       "        vertical-align: top;\n",
       "    }\n",
       "\n",
       "    .dataframe thead th {\n",
       "        text-align: right;\n",
       "    }\n",
       "</style>\n",
       "<table border=\"1\" class=\"dataframe\">\n",
       "  <thead>\n",
       "    <tr style=\"text-align: left;\">\n",
       "      <th></th>\n",
       "      <th>N</th>\n",
       "      <th>NEU</th>\n",
       "      <th>NONE</th>\n",
       "      <th>P</th>\n",
       "    </tr>\n",
       "    <tr>\n",
       "      <th>Pred/True</th>\n",
       "      <th></th>\n",
       "      <th></th>\n",
       "      <th></th>\n",
       "      <th></th>\n",
       "    </tr>\n",
       "  </thead>\n",
       "  <tbody>\n",
       "    <tr>\n",
       "      <th>N</th>\n",
       "      <td>384</td>\n",
       "      <td>91</td>\n",
       "      <td>123</td>\n",
       "      <td>95</td>\n",
       "    </tr>\n",
       "    <tr>\n",
       "      <th>NEU</th>\n",
       "      <td>0</td>\n",
       "      <td>7</td>\n",
       "      <td>0</td>\n",
       "      <td>0</td>\n",
       "    </tr>\n",
       "    <tr>\n",
       "      <th>NONE</th>\n",
       "      <td>2</td>\n",
       "      <td>6</td>\n",
       "      <td>52</td>\n",
       "      <td>6</td>\n",
       "    </tr>\n",
       "    <tr>\n",
       "      <th>P</th>\n",
       "      <td>24</td>\n",
       "      <td>30</td>\n",
       "      <td>25</td>\n",
       "      <td>203</td>\n",
       "    </tr>\n",
       "  </tbody>\n",
       "</table>\n",
       "</div>"
      ],
      "text/plain": [
       "           N    NEU  NONE  P  \n",
       "Pred/True                     \n",
       "N          384  91   123    95\n",
       "NEU          0   7     0     0\n",
       "NONE         2   6    52     6\n",
       "P           24  30    25   203"
      ]
     },
     "metadata": {},
     "output_type": "display_data"
    },
    {
     "data": {
      "text/markdown": [
       "### Validation"
      ],
      "text/plain": [
       "<IPython.core.display.Markdown object>"
      ]
     },
     "metadata": {},
     "output_type": "display_data"
    },
    {
     "name": "stdout",
     "output_type": "stream",
     "text": [
      "              precision    recall  f1-score   support\n",
      "\n",
      "           N       0.47      0.98      0.63        46\n",
      "         NEU       0.00      0.00      0.00        15\n",
      "        NONE       0.00      0.00      0.00        23\n",
      "           P       0.63      0.35      0.45        34\n",
      "\n",
      "   micro avg       0.48      0.48      0.48       118\n",
      "   macro avg       0.28      0.33      0.27       118\n",
      "weighted avg       0.36      0.48      0.38       118\n",
      "\n"
     ]
    },
    {
     "data": {
      "text/html": [
       "<div>\n",
       "<style scoped>\n",
       "    .dataframe tbody tr th:only-of-type {\n",
       "        vertical-align: middle;\n",
       "    }\n",
       "\n",
       "    .dataframe tbody tr th {\n",
       "        vertical-align: top;\n",
       "    }\n",
       "\n",
       "    .dataframe thead th {\n",
       "        text-align: right;\n",
       "    }\n",
       "</style>\n",
       "<table border=\"1\" class=\"dataframe\">\n",
       "  <thead>\n",
       "    <tr style=\"text-align: left;\">\n",
       "      <th></th>\n",
       "      <th>N</th>\n",
       "      <th>NEU</th>\n",
       "      <th>NONE</th>\n",
       "      <th>P</th>\n",
       "    </tr>\n",
       "    <tr>\n",
       "      <th>Pred/True</th>\n",
       "      <th></th>\n",
       "      <th></th>\n",
       "      <th></th>\n",
       "      <th></th>\n",
       "    </tr>\n",
       "  </thead>\n",
       "  <tbody>\n",
       "    <tr>\n",
       "      <th>N</th>\n",
       "      <td>45</td>\n",
       "      <td>12</td>\n",
       "      <td>18</td>\n",
       "      <td>21</td>\n",
       "    </tr>\n",
       "    <tr>\n",
       "      <th>NEU</th>\n",
       "      <td>0</td>\n",
       "      <td>0</td>\n",
       "      <td>0</td>\n",
       "      <td>0</td>\n",
       "    </tr>\n",
       "    <tr>\n",
       "      <th>NONE</th>\n",
       "      <td>0</td>\n",
       "      <td>2</td>\n",
       "      <td>0</td>\n",
       "      <td>1</td>\n",
       "    </tr>\n",
       "    <tr>\n",
       "      <th>P</th>\n",
       "      <td>1</td>\n",
       "      <td>1</td>\n",
       "      <td>5</td>\n",
       "      <td>12</td>\n",
       "    </tr>\n",
       "  </tbody>\n",
       "</table>\n",
       "</div>"
      ],
      "text/plain": [
       "           N   NEU  NONE  P \n",
       "Pred/True                   \n",
       "N          45  12   18    21\n",
       "NEU         0   0    0     0\n",
       "NONE        0   2    0     1\n",
       "P           1   1    5    12"
      ]
     },
     "metadata": {},
     "output_type": "display_data"
    },
    {
     "data": {
      "text/markdown": [
       "### Test"
      ],
      "text/plain": [
       "<IPython.core.display.Markdown object>"
      ]
     },
     "metadata": {},
     "output_type": "display_data"
    },
    {
     "name": "stdout",
     "output_type": "stream",
     "text": [
      "Accuracy: 0.49271636675235647\n",
      "Loss: 1.180334696579936\n",
      "              precision    recall  f1-score   support\n",
      "\n",
      "           N       0.47      0.87      0.61       456\n",
      "         NEU       0.00      0.00      0.00       148\n",
      "        NONE       0.39      0.08      0.13       224\n",
      "           P       0.58      0.47      0.52       339\n",
      "\n",
      "   micro avg       0.49      0.49      0.49      1167\n",
      "   macro avg       0.36      0.36      0.32      1167\n",
      "weighted avg       0.43      0.49      0.42      1167\n",
      "\n"
     ]
    },
    {
     "data": {
      "text/html": [
       "<div>\n",
       "<style scoped>\n",
       "    .dataframe tbody tr th:only-of-type {\n",
       "        vertical-align: middle;\n",
       "    }\n",
       "\n",
       "    .dataframe tbody tr th {\n",
       "        vertical-align: top;\n",
       "    }\n",
       "\n",
       "    .dataframe thead th {\n",
       "        text-align: right;\n",
       "    }\n",
       "</style>\n",
       "<table border=\"1\" class=\"dataframe\">\n",
       "  <thead>\n",
       "    <tr style=\"text-align: left;\">\n",
       "      <th></th>\n",
       "      <th>N</th>\n",
       "      <th>NEU</th>\n",
       "      <th>NONE</th>\n",
       "      <th>P</th>\n",
       "    </tr>\n",
       "    <tr>\n",
       "      <th>Pred/True</th>\n",
       "      <th></th>\n",
       "      <th></th>\n",
       "      <th></th>\n",
       "      <th></th>\n",
       "    </tr>\n",
       "  </thead>\n",
       "  <tbody>\n",
       "    <tr>\n",
       "      <th>N</th>\n",
       "      <td>398</td>\n",
       "      <td>111</td>\n",
       "      <td>171</td>\n",
       "      <td>167</td>\n",
       "    </tr>\n",
       "    <tr>\n",
       "      <th>NEU</th>\n",
       "      <td>1</td>\n",
       "      <td>0</td>\n",
       "      <td>0</td>\n",
       "      <td>0</td>\n",
       "    </tr>\n",
       "    <tr>\n",
       "      <th>NONE</th>\n",
       "      <td>9</td>\n",
       "      <td>6</td>\n",
       "      <td>18</td>\n",
       "      <td>13</td>\n",
       "    </tr>\n",
       "    <tr>\n",
       "      <th>P</th>\n",
       "      <td>48</td>\n",
       "      <td>31</td>\n",
       "      <td>35</td>\n",
       "      <td>159</td>\n",
       "    </tr>\n",
       "  </tbody>\n",
       "</table>\n",
       "</div>"
      ],
      "text/plain": [
       "           N    NEU  NONE  P  \n",
       "Pred/True                     \n",
       "N          398  111  171   167\n",
       "NEU          1    0    0     0\n",
       "NONE         9    6   18    13\n",
       "P           48   31   35   159"
      ]
     },
     "metadata": {},
     "output_type": "display_data"
    },
    {
     "data": {
      "text/markdown": [
       "### Fold number: 3. Name: edfda12dfc95442b90ecd515d318e628"
      ],
      "text/plain": [
       "<IPython.core.display.Markdown object>"
      ]
     },
     "metadata": {},
     "output_type": "display_data"
    },
    {
     "data": {
      "text/markdown": [
       "### Training"
      ],
      "text/plain": [
       "<IPython.core.display.Markdown object>"
      ]
     },
     "metadata": {},
     "output_type": "display_data"
    },
    {
     "name": "stdout",
     "output_type": "stream",
     "text": [
      "              precision    recall  f1-score   support\n",
      "\n",
      "           N       0.54      0.94      0.69       410\n",
      "         NEU       1.00      0.07      0.14       134\n",
      "        NONE       0.84      0.24      0.37       200\n",
      "           P       0.70      0.61      0.65       304\n",
      "\n",
      "   micro avg       0.60      0.60      0.60      1048\n",
      "   macro avg       0.77      0.47      0.46      1048\n",
      "weighted avg       0.70      0.60      0.55      1048\n",
      "\n"
     ]
    },
    {
     "data": {
      "text/html": [
       "<div>\n",
       "<style scoped>\n",
       "    .dataframe tbody tr th:only-of-type {\n",
       "        vertical-align: middle;\n",
       "    }\n",
       "\n",
       "    .dataframe tbody tr th {\n",
       "        vertical-align: top;\n",
       "    }\n",
       "\n",
       "    .dataframe thead th {\n",
       "        text-align: right;\n",
       "    }\n",
       "</style>\n",
       "<table border=\"1\" class=\"dataframe\">\n",
       "  <thead>\n",
       "    <tr style=\"text-align: left;\">\n",
       "      <th></th>\n",
       "      <th>N</th>\n",
       "      <th>NEU</th>\n",
       "      <th>NONE</th>\n",
       "      <th>P</th>\n",
       "    </tr>\n",
       "    <tr>\n",
       "      <th>Pred/True</th>\n",
       "      <th></th>\n",
       "      <th></th>\n",
       "      <th></th>\n",
       "      <th></th>\n",
       "    </tr>\n",
       "  </thead>\n",
       "  <tbody>\n",
       "    <tr>\n",
       "      <th>N</th>\n",
       "      <td>386</td>\n",
       "      <td>89</td>\n",
       "      <td>127</td>\n",
       "      <td>114</td>\n",
       "    </tr>\n",
       "    <tr>\n",
       "      <th>NEU</th>\n",
       "      <td>0</td>\n",
       "      <td>10</td>\n",
       "      <td>0</td>\n",
       "      <td>0</td>\n",
       "    </tr>\n",
       "    <tr>\n",
       "      <th>NONE</th>\n",
       "      <td>0</td>\n",
       "      <td>5</td>\n",
       "      <td>48</td>\n",
       "      <td>4</td>\n",
       "    </tr>\n",
       "    <tr>\n",
       "      <th>P</th>\n",
       "      <td>24</td>\n",
       "      <td>30</td>\n",
       "      <td>25</td>\n",
       "      <td>186</td>\n",
       "    </tr>\n",
       "  </tbody>\n",
       "</table>\n",
       "</div>"
      ],
      "text/plain": [
       "           N    NEU  NONE  P  \n",
       "Pred/True                     \n",
       "N          386  89   127   114\n",
       "NEU          0  10     0     0\n",
       "NONE         0   5    48     4\n",
       "P           24  30    25   186"
      ]
     },
     "metadata": {},
     "output_type": "display_data"
    },
    {
     "data": {
      "text/markdown": [
       "### Validation"
      ],
      "text/plain": [
       "<IPython.core.display.Markdown object>"
      ]
     },
     "metadata": {},
     "output_type": "display_data"
    },
    {
     "name": "stdout",
     "output_type": "stream",
     "text": [
      "              precision    recall  f1-score   support\n",
      "\n",
      "           N       0.49      0.78      0.61        46\n",
      "         NEU       0.00      0.00      0.00        15\n",
      "        NONE       0.50      0.17      0.26        23\n",
      "           P       0.47      0.50      0.49        34\n",
      "\n",
      "   micro avg       0.48      0.48      0.48       118\n",
      "   macro avg       0.37      0.36      0.34       118\n",
      "weighted avg       0.43      0.48      0.43       118\n",
      "\n"
     ]
    },
    {
     "data": {
      "text/html": [
       "<div>\n",
       "<style scoped>\n",
       "    .dataframe tbody tr th:only-of-type {\n",
       "        vertical-align: middle;\n",
       "    }\n",
       "\n",
       "    .dataframe tbody tr th {\n",
       "        vertical-align: top;\n",
       "    }\n",
       "\n",
       "    .dataframe thead th {\n",
       "        text-align: right;\n",
       "    }\n",
       "</style>\n",
       "<table border=\"1\" class=\"dataframe\">\n",
       "  <thead>\n",
       "    <tr style=\"text-align: left;\">\n",
       "      <th></th>\n",
       "      <th>N</th>\n",
       "      <th>NEU</th>\n",
       "      <th>NONE</th>\n",
       "      <th>P</th>\n",
       "    </tr>\n",
       "    <tr>\n",
       "      <th>Pred/True</th>\n",
       "      <th></th>\n",
       "      <th></th>\n",
       "      <th></th>\n",
       "      <th></th>\n",
       "    </tr>\n",
       "  </thead>\n",
       "  <tbody>\n",
       "    <tr>\n",
       "      <th>N</th>\n",
       "      <td>36</td>\n",
       "      <td>7</td>\n",
       "      <td>15</td>\n",
       "      <td>15</td>\n",
       "    </tr>\n",
       "    <tr>\n",
       "      <th>NEU</th>\n",
       "      <td>1</td>\n",
       "      <td>0</td>\n",
       "      <td>0</td>\n",
       "      <td>0</td>\n",
       "    </tr>\n",
       "    <tr>\n",
       "      <th>NONE</th>\n",
       "      <td>0</td>\n",
       "      <td>2</td>\n",
       "      <td>4</td>\n",
       "      <td>2</td>\n",
       "    </tr>\n",
       "    <tr>\n",
       "      <th>P</th>\n",
       "      <td>9</td>\n",
       "      <td>6</td>\n",
       "      <td>4</td>\n",
       "      <td>17</td>\n",
       "    </tr>\n",
       "  </tbody>\n",
       "</table>\n",
       "</div>"
      ],
      "text/plain": [
       "           N   NEU  NONE  P \n",
       "Pred/True                   \n",
       "N          36  7    15    15\n",
       "NEU         1  0     0     0\n",
       "NONE        0  2     4     2\n",
       "P           9  6     4    17"
      ]
     },
     "metadata": {},
     "output_type": "display_data"
    },
    {
     "data": {
      "text/markdown": [
       "### Test"
      ],
      "text/plain": [
       "<IPython.core.display.Markdown object>"
      ]
     },
     "metadata": {},
     "output_type": "display_data"
    },
    {
     "name": "stdout",
     "output_type": "stream",
     "text": [
      "Accuracy: 0.493573264781491\n",
      "Loss: 1.1779778296141825\n",
      "              precision    recall  f1-score   support\n",
      "\n",
      "           N       0.47      0.87      0.61       456\n",
      "         NEU       0.50      0.01      0.01       148\n",
      "        NONE       0.40      0.08      0.13       224\n",
      "           P       0.58      0.47      0.52       339\n",
      "\n",
      "   micro avg       0.49      0.49      0.49      1167\n",
      "   macro avg       0.49      0.36      0.32      1167\n",
      "weighted avg       0.49      0.49      0.42      1167\n",
      "\n"
     ]
    },
    {
     "data": {
      "text/html": [
       "<div>\n",
       "<style scoped>\n",
       "    .dataframe tbody tr th:only-of-type {\n",
       "        vertical-align: middle;\n",
       "    }\n",
       "\n",
       "    .dataframe tbody tr th {\n",
       "        vertical-align: top;\n",
       "    }\n",
       "\n",
       "    .dataframe thead th {\n",
       "        text-align: right;\n",
       "    }\n",
       "</style>\n",
       "<table border=\"1\" class=\"dataframe\">\n",
       "  <thead>\n",
       "    <tr style=\"text-align: left;\">\n",
       "      <th></th>\n",
       "      <th>N</th>\n",
       "      <th>NEU</th>\n",
       "      <th>NONE</th>\n",
       "      <th>P</th>\n",
       "    </tr>\n",
       "    <tr>\n",
       "      <th>Pred/True</th>\n",
       "      <th></th>\n",
       "      <th></th>\n",
       "      <th></th>\n",
       "      <th></th>\n",
       "    </tr>\n",
       "  </thead>\n",
       "  <tbody>\n",
       "    <tr>\n",
       "      <th>N</th>\n",
       "      <td>397</td>\n",
       "      <td>113</td>\n",
       "      <td>169</td>\n",
       "      <td>166</td>\n",
       "    </tr>\n",
       "    <tr>\n",
       "      <th>NEU</th>\n",
       "      <td>1</td>\n",
       "      <td>1</td>\n",
       "      <td>0</td>\n",
       "      <td>0</td>\n",
       "    </tr>\n",
       "    <tr>\n",
       "      <th>NONE</th>\n",
       "      <td>7</td>\n",
       "      <td>7</td>\n",
       "      <td>17</td>\n",
       "      <td>12</td>\n",
       "    </tr>\n",
       "    <tr>\n",
       "      <th>P</th>\n",
       "      <td>51</td>\n",
       "      <td>27</td>\n",
       "      <td>38</td>\n",
       "      <td>161</td>\n",
       "    </tr>\n",
       "  </tbody>\n",
       "</table>\n",
       "</div>"
      ],
      "text/plain": [
       "           N    NEU  NONE  P  \n",
       "Pred/True                     \n",
       "N          397  113  169   166\n",
       "NEU          1    1    0     0\n",
       "NONE         7    7   17    12\n",
       "P           51   27   38   161"
      ]
     },
     "metadata": {},
     "output_type": "display_data"
    },
    {
     "data": {
      "text/markdown": [
       "### Fold number: 4. Name: 792f8d6d27c143ae9491a94620950148"
      ],
      "text/plain": [
       "<IPython.core.display.Markdown object>"
      ]
     },
     "metadata": {},
     "output_type": "display_data"
    },
    {
     "data": {
      "text/markdown": [
       "### Training"
      ],
      "text/plain": [
       "<IPython.core.display.Markdown object>"
      ]
     },
     "metadata": {},
     "output_type": "display_data"
    },
    {
     "name": "stdout",
     "output_type": "stream",
     "text": [
      "              precision    recall  f1-score   support\n",
      "\n",
      "           N       0.53      0.95      0.68       410\n",
      "         NEU       1.00      0.06      0.11       134\n",
      "        NONE       0.80      0.22      0.34       201\n",
      "           P       0.71      0.58      0.64       304\n",
      "\n",
      "   micro avg       0.59      0.59      0.59      1049\n",
      "   macro avg       0.76      0.45      0.44      1049\n",
      "weighted avg       0.69      0.59      0.53      1049\n",
      "\n"
     ]
    },
    {
     "data": {
      "text/html": [
       "<div>\n",
       "<style scoped>\n",
       "    .dataframe tbody tr th:only-of-type {\n",
       "        vertical-align: middle;\n",
       "    }\n",
       "\n",
       "    .dataframe tbody tr th {\n",
       "        vertical-align: top;\n",
       "    }\n",
       "\n",
       "    .dataframe thead th {\n",
       "        text-align: right;\n",
       "    }\n",
       "</style>\n",
       "<table border=\"1\" class=\"dataframe\">\n",
       "  <thead>\n",
       "    <tr style=\"text-align: left;\">\n",
       "      <th></th>\n",
       "      <th>N</th>\n",
       "      <th>NEU</th>\n",
       "      <th>NONE</th>\n",
       "      <th>P</th>\n",
       "    </tr>\n",
       "    <tr>\n",
       "      <th>Pred/True</th>\n",
       "      <th></th>\n",
       "      <th></th>\n",
       "      <th></th>\n",
       "      <th></th>\n",
       "    </tr>\n",
       "  </thead>\n",
       "  <tbody>\n",
       "    <tr>\n",
       "      <th>N</th>\n",
       "      <td>390</td>\n",
       "      <td>92</td>\n",
       "      <td>134</td>\n",
       "      <td>122</td>\n",
       "    </tr>\n",
       "    <tr>\n",
       "      <th>NEU</th>\n",
       "      <td>0</td>\n",
       "      <td>8</td>\n",
       "      <td>0</td>\n",
       "      <td>0</td>\n",
       "    </tr>\n",
       "    <tr>\n",
       "      <th>NONE</th>\n",
       "      <td>1</td>\n",
       "      <td>5</td>\n",
       "      <td>44</td>\n",
       "      <td>5</td>\n",
       "    </tr>\n",
       "    <tr>\n",
       "      <th>P</th>\n",
       "      <td>19</td>\n",
       "      <td>29</td>\n",
       "      <td>23</td>\n",
       "      <td>177</td>\n",
       "    </tr>\n",
       "  </tbody>\n",
       "</table>\n",
       "</div>"
      ],
      "text/plain": [
       "           N    NEU  NONE  P  \n",
       "Pred/True                     \n",
       "N          390  92   134   122\n",
       "NEU          0   8     0     0\n",
       "NONE         1   5    44     5\n",
       "P           19  29    23   177"
      ]
     },
     "metadata": {},
     "output_type": "display_data"
    },
    {
     "data": {
      "text/markdown": [
       "### Validation"
      ],
      "text/plain": [
       "<IPython.core.display.Markdown object>"
      ]
     },
     "metadata": {},
     "output_type": "display_data"
    },
    {
     "name": "stdout",
     "output_type": "stream",
     "text": [
      "              precision    recall  f1-score   support\n",
      "\n",
      "           N       0.49      0.78      0.61        46\n",
      "         NEU       0.00      0.00      0.00        15\n",
      "        NONE       0.50      0.14      0.21        22\n",
      "           P       0.59      0.65      0.62        34\n",
      "\n",
      "   micro avg       0.52      0.52      0.52       117\n",
      "   macro avg       0.40      0.39      0.36       117\n",
      "weighted avg       0.46      0.52      0.46       117\n",
      "\n"
     ]
    },
    {
     "data": {
      "text/html": [
       "<div>\n",
       "<style scoped>\n",
       "    .dataframe tbody tr th:only-of-type {\n",
       "        vertical-align: middle;\n",
       "    }\n",
       "\n",
       "    .dataframe tbody tr th {\n",
       "        vertical-align: top;\n",
       "    }\n",
       "\n",
       "    .dataframe thead th {\n",
       "        text-align: right;\n",
       "    }\n",
       "</style>\n",
       "<table border=\"1\" class=\"dataframe\">\n",
       "  <thead>\n",
       "    <tr style=\"text-align: left;\">\n",
       "      <th></th>\n",
       "      <th>N</th>\n",
       "      <th>NEU</th>\n",
       "      <th>NONE</th>\n",
       "      <th>P</th>\n",
       "    </tr>\n",
       "    <tr>\n",
       "      <th>Pred/True</th>\n",
       "      <th></th>\n",
       "      <th></th>\n",
       "      <th></th>\n",
       "      <th></th>\n",
       "    </tr>\n",
       "  </thead>\n",
       "  <tbody>\n",
       "    <tr>\n",
       "      <th>N</th>\n",
       "      <td>36</td>\n",
       "      <td>11</td>\n",
       "      <td>16</td>\n",
       "      <td>10</td>\n",
       "    </tr>\n",
       "    <tr>\n",
       "      <th>NEU</th>\n",
       "      <td>0</td>\n",
       "      <td>0</td>\n",
       "      <td>1</td>\n",
       "      <td>0</td>\n",
       "    </tr>\n",
       "    <tr>\n",
       "      <th>NONE</th>\n",
       "      <td>1</td>\n",
       "      <td>0</td>\n",
       "      <td>3</td>\n",
       "      <td>2</td>\n",
       "    </tr>\n",
       "    <tr>\n",
       "      <th>P</th>\n",
       "      <td>9</td>\n",
       "      <td>4</td>\n",
       "      <td>2</td>\n",
       "      <td>22</td>\n",
       "    </tr>\n",
       "  </tbody>\n",
       "</table>\n",
       "</div>"
      ],
      "text/plain": [
       "           N   NEU  NONE  P \n",
       "Pred/True                   \n",
       "N          36  11   16    10\n",
       "NEU         0   0    1     0\n",
       "NONE        1   0    3     2\n",
       "P           9   4    2    22"
      ]
     },
     "metadata": {},
     "output_type": "display_data"
    },
    {
     "data": {
      "text/markdown": [
       "### Test"
      ],
      "text/plain": [
       "<IPython.core.display.Markdown object>"
      ]
     },
     "metadata": {},
     "output_type": "display_data"
    },
    {
     "name": "stdout",
     "output_type": "stream",
     "text": [
      "Accuracy: 0.4892887746358183\n",
      "Loss: 1.1800753423150212\n",
      "              precision    recall  f1-score   support\n",
      "\n",
      "           N       0.47      0.87      0.61       456\n",
      "         NEU       0.00      0.00      0.00       148\n",
      "        NONE       0.47      0.09      0.15       224\n",
      "           P       0.57      0.45      0.50       339\n",
      "\n",
      "   micro avg       0.49      0.49      0.49      1167\n",
      "   macro avg       0.38      0.35      0.32      1167\n",
      "weighted avg       0.44      0.49      0.41      1167\n",
      "\n"
     ]
    }
   ],
   "source": [
    "#%matplotlib notebook\n",
    "display(Markdown(f'# Suport Vector Machine'))\n",
    "word_vectors = wv_rep.get_all()\n",
    "word_vector_names = []\n",
    "lab_reports = []\n",
    "\n",
    "#word_vectors = [word_vectors.__next__()] #comment!!!!!\n",
    "for i, word_vector in enumerate(word_vectors):\n",
    "    wv_service = WordVectorsService(word_vector)\n",
    "    test_inputs.append(ClassifierInput(test_comments, wv_service))\n",
    "    input = ClassifierInput(comments, wv_service)\n",
    "    lab_report = classification_lab_report(i+1, input, lab)\n",
    "    model_architecture_summary(lab_report)\n",
    "    word_vector_names.append(word_vector.name)\n",
    "    lab_reports.append(lab_report)\n",
    "    \n",
    "for i, word_vector_name in enumerate(word_vector_names): \n",
    "    lab_report = lab_reports[i]\n",
    "    show_statistics_by_model(i, word_vector_name, lab_report)\n",
    "    "
   ]
  },
  {
   "cell_type": "code",
   "execution_count": null,
   "metadata": {},
   "outputs": [],
   "source": []
  }
 ],
 "metadata": {
  "kernelspec": {
   "display_name": "Python 3",
   "language": "python",
   "name": "python3"
  },
  "language_info": {
   "codemirror_mode": {
    "name": "ipython",
    "version": 3
   },
   "file_extension": ".py",
   "mimetype": "text/x-python",
   "name": "python",
   "nbconvert_exporter": "python",
   "pygments_lexer": "ipython3",
   "version": "3.7.3"
  }
 },
 "nbformat": 4,
 "nbformat_minor": 2
}
