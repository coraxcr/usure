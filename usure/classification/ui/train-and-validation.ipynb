{
 "cells": [
  {
   "cell_type": "code",
   "execution_count": 1,
   "metadata": {},
   "outputs": [],
   "source": [
    "import sys\n",
    "import os\n",
    "from pprint import pprint\n",
    "sys.path.append(os.path.abspath(\"../../../\"))\n",
    "import warnings\n",
    "warnings.filterwarnings('ignore')\n",
    "from IPython.display import display, HTML\n",
    "from IPython.display import Markdown\n",
    "import ipywidgets as iw\n",
    "import numpy as np\n",
    "import pandas as pd\n",
    "import matplotlib.pyplot as plt\n",
    "\n",
    "np.random.seed(5)\n",
    "import tensorflow as tf \n",
    "tf.set_random_seed(5)"
   ]
  },
  {
   "cell_type": "code",
   "execution_count": 2,
   "metadata": {},
   "outputs": [
    {
     "name": "stderr",
     "output_type": "stream",
     "text": [
      "Using TensorFlow backend.\n"
     ]
    }
   ],
   "source": [
    "import usure.common.logging as usurelogging\n",
    "from usure.config import config\n",
    "from usure.classification.infrastructure import (\n",
    "     BasicSentenceCleaner \n",
    "    ,FileLabeledCommentsDao\n",
    "    ,FileWordVectorsRep)\n",
    "from usure.classification.core import CnnLab, SvmLab, ClassifierInput\n",
    "from usure.classification.infrastructure import FileModelDao\n",
    "from usure.classification.ui import utils"
   ]
  },
  {
   "cell_type": "code",
   "execution_count": 3,
   "metadata": {},
   "outputs": [
    {
     "data": {
      "application/javascript": [
       "IPython.OutputArea.prototype._should_scroll = lines => false\n"
      ],
      "text/plain": [
       "<IPython.core.display.Javascript object>"
      ]
     },
     "metadata": {},
     "output_type": "display_data"
    }
   ],
   "source": [
    "%%javascript\n",
    "IPython.OutputArea.prototype._should_scroll = lines => false"
   ]
  },
  {
   "cell_type": "code",
   "execution_count": 4,
   "metadata": {},
   "outputs": [],
   "source": [
    "cleaner = BasicSentenceCleaner(config.assets)\n",
    "commentsdao = FileLabeledCommentsDao(config.classification, cleaner)\n",
    "wvrep = FileWordVectorsRep(config.embeddings)\n",
    "dao = FileModelDao(config.models)\n",
    "labeledcomments = commentsdao.get(\"intertass-CR-train-tagged.xml\")"
   ]
  },
  {
   "cell_type": "code",
   "execution_count": null,
   "metadata": {},
   "outputs": [
    {
     "data": {
      "text/markdown": [
       "# Embeddings: CorpusFBCR2013.txt.usu.bw.kvs svm-CorpusFBCR2013.txt.usu.bw.kvs.skl"
      ],
      "text/plain": [
       "<IPython.core.display.Markdown object>"
      ]
     },
     "metadata": {},
     "output_type": "display_data"
    },
    {
     "data": {
      "text/markdown": [
       "## Training and Validation Learning Curves"
      ],
      "text/plain": [
       "<IPython.core.display.Markdown object>"
      ]
     },
     "metadata": {},
     "output_type": "display_data"
    },
    {
     "data": {
      "image/png": "[encoded data removed]",
      "text/plain": [
       "<Figure size 1152x504 with 2 Axes>"
      ]
     },
     "metadata": {
      "needs_background": "light"
     },
     "output_type": "display_data"
    },
    {
     "name": "stdout",
     "output_type": "stream",
     "text": [
      "   tra acc  val acc  tra loss  val loss\n",
      "0     0.56     0.42      0.91       1.3\n"
     ]
    },
    {
     "data": {
      "text/markdown": [
       "## Training set"
      ],
      "text/plain": [
       "<IPython.core.display.Markdown object>"
      ]
     },
     "metadata": {},
     "output_type": "display_data"
    },
    {
     "data": {
      "text/markdown": [
       "### Training classification report"
      ],
      "text/plain": [
       "<IPython.core.display.Markdown object>"
      ]
     },
     "metadata": {},
     "output_type": "display_data"
    },
    {
     "name": "stdout",
     "output_type": "stream",
     "text": [
      "              precision    recall  f1-score   support\n",
      "\n",
      "           N       0.49      0.98      0.65       279\n",
      "         NEU       0.00      0.00      0.00        81\n",
      "        NONE       0.87      0.18      0.30       150\n",
      "           P       0.79      0.48      0.60       210\n",
      "\n",
      "   micro avg       0.56      0.56      0.56       720\n",
      "   macro avg       0.54      0.41      0.39       720\n",
      "weighted avg       0.60      0.56      0.49       720\n",
      "\n"
     ]
    },
    {
     "data": {
      "text/markdown": [
       "### Training confusion report"
      ],
      "text/plain": [
       "<IPython.core.display.Markdown object>"
      ]
     },
     "metadata": {},
     "output_type": "display_data"
    },
    {
     "name": "stdout",
     "output_type": "stream",
     "text": [
      "             N  NEU  NONE    P\n",
      "Pred/True                     \n",
      "N          273    0     0    6\n",
      "NEU         68    0     3   10\n",
      "NONE       112    0    27   11\n",
      "P          108    0     1  101\n",
      "\n",
      "\n"
     ]
    },
    {
     "data": {
      "text/markdown": [
       "## Validation set"
      ],
      "text/plain": [
       "<IPython.core.display.Markdown object>"
      ]
     },
     "metadata": {},
     "output_type": "display_data"
    },
    {
     "data": {
      "text/markdown": [
       "### Validation classification report"
      ],
      "text/plain": [
       "<IPython.core.display.Markdown object>"
      ]
     },
     "metadata": {},
     "output_type": "display_data"
    },
    {
     "name": "stdout",
     "output_type": "stream",
     "text": [
      "              precision    recall  f1-score   support\n",
      "\n",
      "           N       0.43      0.91      0.58        32\n",
      "         NEU       0.00      0.00      0.00        13\n",
      "        NONE       0.00      0.00      0.00        15\n",
      "           P       0.42      0.25      0.31        20\n",
      "\n",
      "   micro avg       0.42      0.42      0.42        80\n",
      "   macro avg       0.21      0.29      0.22        80\n",
      "weighted avg       0.27      0.42      0.31        80\n",
      "\n"
     ]
    },
    {
     "data": {
      "text/markdown": [
       "### Validation confusion report"
      ],
      "text/plain": [
       "<IPython.core.display.Markdown object>"
      ]
     },
     "metadata": {},
     "output_type": "display_data"
    },
    {
     "name": "stdout",
     "output_type": "stream",
     "text": [
      "            N  NEU  NONE  P\n",
      "Pred/True                  \n",
      "N          29    0     0  3\n",
      "NEU        10    0     0  3\n",
      "NONE       14    0     0  1\n",
      "P          15    0     0  5\n",
      "\n",
      "\n"
     ]
    },
    {
     "data": {
      "text/markdown": [
       "# Embeddings: CorpusFBCR2013.txt.usu.sw.kvs svm-CorpusFBCR2013.txt.usu.sw.kvs.skl"
      ],
      "text/plain": [
       "<IPython.core.display.Markdown object>"
      ]
     },
     "metadata": {},
     "output_type": "display_data"
    },
    {
     "data": {
      "text/markdown": [
       "## Training and Validation Learning Curves"
      ],
      "text/plain": [
       "<IPython.core.display.Markdown object>"
      ]
     },
     "metadata": {},
     "output_type": "display_data"
    },
    {
     "data": {
      "image/png": "[encoded data removed]",
      "text/plain": [
       "<Figure size 1152x504 with 2 Axes>"
      ]
     },
     "metadata": {
      "needs_background": "light"
     },
     "output_type": "display_data"
    },
    {
     "name": "stdout",
     "output_type": "stream",
     "text": [
      "   tra acc  val acc  tra loss  val loss\n",
      "0     0.56     0.42      0.93       1.3\n"
     ]
    },
    {
     "data": {
      "text/markdown": [
       "## Training set"
      ],
      "text/plain": [
       "<IPython.core.display.Markdown object>"
      ]
     },
     "metadata": {},
     "output_type": "display_data"
    },
    {
     "data": {
      "text/markdown": [
       "### Training classification report"
      ],
      "text/plain": [
       "<IPython.core.display.Markdown object>"
      ]
     },
     "metadata": {},
     "output_type": "display_data"
    },
    {
     "name": "stdout",
     "output_type": "stream",
     "text": [
      "              precision    recall  f1-score   support\n",
      "\n",
      "           N       0.49      0.98      0.65       279\n",
      "         NEU       0.00      0.00      0.00        81\n",
      "        NONE       0.86      0.20      0.32       150\n",
      "           P       0.79      0.47      0.59       210\n",
      "\n",
      "   micro avg       0.56      0.56      0.56       720\n",
      "   macro avg       0.53      0.41      0.39       720\n",
      "weighted avg       0.60      0.56      0.49       720\n",
      "\n"
     ]
    },
    {
     "data": {
      "text/markdown": [
       "### Training confusion report"
      ],
      "text/plain": [
       "<IPython.core.display.Markdown object>"
      ]
     },
     "metadata": {},
     "output_type": "display_data"
    },
    {
     "name": "stdout",
     "output_type": "stream",
     "text": [
      "             N  NEU  NONE   P\n",
      "Pred/True                    \n",
      "N          274    0     0   5\n",
      "NEU         70    0     2   9\n",
      "NONE       107    0    30  13\n",
      "P          108    0     3  99\n",
      "\n",
      "\n"
     ]
    },
    {
     "data": {
      "text/markdown": [
       "## Validation set"
      ],
      "text/plain": [
       "<IPython.core.display.Markdown object>"
      ]
     },
     "metadata": {},
     "output_type": "display_data"
    },
    {
     "data": {
      "text/markdown": [
       "### Validation classification report"
      ],
      "text/plain": [
       "<IPython.core.display.Markdown object>"
      ]
     },
     "metadata": {},
     "output_type": "display_data"
    },
    {
     "name": "stdout",
     "output_type": "stream",
     "text": [
      "              precision    recall  f1-score   support\n",
      "\n",
      "           N       0.44      0.84      0.58        32\n",
      "         NEU       0.00      0.00      0.00        13\n",
      "        NONE       0.50      0.07      0.12        15\n",
      "           P       0.35      0.30      0.32        20\n",
      "\n",
      "   micro avg       0.42      0.42      0.42        80\n",
      "   macro avg       0.32      0.30      0.26        80\n",
      "weighted avg       0.36      0.42      0.34        80\n",
      "\n"
     ]
    },
    {
     "data": {
      "text/markdown": [
       "### Validation confusion report"
      ],
      "text/plain": [
       "<IPython.core.display.Markdown object>"
      ]
     },
     "metadata": {},
     "output_type": "display_data"
    },
    {
     "name": "stdout",
     "output_type": "stream",
     "text": [
      "            N  NEU  NONE  P\n",
      "Pred/True                  \n",
      "N          27    0     0  5\n",
      "NEU         9    0     0  4\n",
      "NONE       12    0     1  2\n",
      "P          13    0     1  6\n",
      "\n",
      "\n"
     ]
    }
   ],
   "source": [
    "wvs = wvrep.get_all()\n",
    "def classification_lab_report(lab, embedding_name):\n",
    "    display(Markdown(f'# Embeddings: {embedding_name} {lab.name}'))\n",
    "    display(Markdown(f'## Training and Validation Learning Curves'))\n",
    "    utils.plot_learning_curves(lab.train_report, lab.validation_report)\n",
    "    utils.print_metrics(lab.train_report, lab.validation_report)\n",
    "    \n",
    "    display(Markdown(f'## Training set'))\n",
    "    display(Markdown(f'### Training classification report'))  \n",
    "    print(lab.train_report.classification_reports[-1])\n",
    "    display(Markdown(f'### Training confusion report'))\n",
    "    utils.print_confusion_matrix(lab.train_report.confusion_matrices[-1], lab.train_report.categories)\n",
    "    display(Markdown(f'## Validation set'))\n",
    "    display(Markdown(f'### Validation classification report'))  \n",
    "    print(lab.validation_report.classification_reports[-1])\n",
    "    display(Markdown(f'### Validation confusion report'))\n",
    "    utils.print_confusion_matrix(lab.validation_report.confusion_matrices[-1], lab.validation_report.categories)\n",
    "    \n",
    "for wv in wvs:\n",
    "    \n",
    "    lab = SvmLab(ClassifierInput(labeledcomments, wv), dao)\n",
    "    classification_lab_report(lab, wv.name)"
   ]
  },
  {
   "cell_type": "code",
   "execution_count": null,
   "metadata": {},
   "outputs": [],
   "source": []
  }
 ],
 "metadata": {
  "kernelspec": {
   "display_name": "Python 3",
   "language": "python",
   "name": "python3"
  },
  "language_info": {
   "codemirror_mode": {
    "name": "ipython",
    "version": 3
   },
   "file_extension": ".py",
   "mimetype": "text/x-python",
   "name": "python",
   "nbconvert_exporter": "python",
   "pygments_lexer": "ipython3",
   "version": "3.7.3"
  }
 },
 "nbformat": 4,
 "nbformat_minor": 2
}
